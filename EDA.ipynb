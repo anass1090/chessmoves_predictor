{
 "cells": [
  {
   "metadata": {
    "ExecuteTime": {
     "end_time": "2025-06-23T15:26:28.171824Z",
     "start_time": "2025-06-23T15:26:26.379893Z"
    }
   },
   "cell_type": "code",
   "source": [
    "import chess.pgn\n",
    "from collections import Counter\n",
    "import matplotlib.pyplot as plt\n",
    "import pandas as pd\n",
    "import json\n",
    "from torch.utils.data import Dataset, DataLoader, Subset\n",
    "import torch.nn as nn\n",
    "from sklearn.model_selection import train_test_split\n",
    "import torch.optim as optim\n",
    "from tqdm import tqdm\n",
    "import torch\n",
    "from torch.amp import autocast, GradScaler\n",
    "import math\n",
    "from torch.nn.utils.rnn import pack_padded_sequence, pad_packed_sequence, pad_sequence\n",
    "from functools import partial\n",
    "import numpy as np\n",
    "import chess\n",
    "\n",
    "pgn_path = \"data/all_lichess_elite_games.pgn\""
   ],
   "id": "5699fead9c2621bb",
   "outputs": [],
   "execution_count": 1
  },
  {
   "metadata": {
    "ExecuteTime": {
     "end_time": "2025-06-23T15:26:28.257074Z",
     "start_time": "2025-06-23T15:26:28.255516Z"
    }
   },
   "cell_type": "code",
   "source": [
    "# def count_games(pgn_path):\n",
    "#     count = 0\n",
    "#     with open(pgn_path, 'r', encoding='utf-8') as f:\n",
    "#         while True:\n",
    "#             game = chess.pgn.read_game(f)\n",
    "#             if game is None:\n",
    "#                 break\n",
    "#             count += 1\n",
    "#             if count % 1000000 == 0:\n",
    "#                 print(f\"{count} games counted...\")\n",
    "#     return count\n",
    "#\n",
    "# total_games = count_games(pgn_path)\n",
    "# print(f\"Total games: {total_games}\")"
   ],
   "id": "8eeaffcec42742d3",
   "outputs": [],
   "execution_count": 2
  },
  {
   "metadata": {},
   "cell_type": "markdown",
   "source": [
    "### Data understanding\n",
    "\n",
    "In this notebook, I will analyze the dataset from lichess. This dataset is an elite dataset were only games from high rated titled players are included. This dataset does not include bullet (1 or 2 minute games), but only classical, rapid and blitz games. There is a total of around 3.8 million games in the set. The dataset is in PGN format, which is a standard format for chess games. Each game is stored in a single line with the moves and metadata. This differs from FEN were only a single position is stored. The actual game is stored as standard algebraic notation (SAN) move list. This dataset only has the game itself plus some information about the game. Termination is also included, which stores how the game has ended. Normal is just by regular rules of chess (checkmate, stalemate, resignation and a couple more) and when it's not normal it's either on time or something weird happened like rule violations, abandonment of the game or the PGN is broken. ECO codes are included which show the opening played in the game, in the other opening tab it shows the variation inside the opening as well.\n",
    "\n",
    "[Event \"Rated Blitz game\"]\n",
    "[Date \"????.??.??\"]\n",
    "[Round \"?\"]\n",
    "[White \"skopje123\"]\n",
    "[Black \"NIGHTGUEST\"]\n",
    "[Result \"0-1\"]\n",
    "[WhiteElo \"2361\"]\n",
    "[BlackElo \"2429\"]\n",
    "[ECO \"D02\"]\n",
    "[Opening \"Queen's Gambit Refused: Baltic Defense\"]\n",
    "[TimeControl \"180+0\"]\n",
    "[UTCDate \"2015.08.31\"]\n",
    "[UTCTime \"22:00:17\"]\n",
    "[Termination \"Normal\"]\n",
    "[WhiteRatingDiff \"-9\"]\n",
    "[BlackRatingDiff \"+9\"]\n",
    "\n",
    "1. d4 d5 2. c4 Bf5 3. cxd5 Bxb1 4. Rxb1 Qxd5 5. e3 Nc6 6. Ne2 e5 7. Nc3 Bb4 8. Bd2 Bxc3 9. bxc3 exd4 10. cxd4 Nf6 11. Rb5 Qxa2 12. Rxb7 O-O 13. Be2 Ne4 14. Bf3 Nxd2 15. Bxc6 Qa6 16. Qxd2 Qxc6 17. Rb1 Qxg2 18. Ke2 Qg4+ 19. Kf1\n",
    "Rfb8 20. Rc1 a5 21. Rg1 Qh3+ 22. Rg2 a4 23. Rxc7 a3 24. Rc2 Rb1+ 25. Rc1 a2 26. Ke2 Rxc1 0-1"
   ],
   "id": "a07beb230038c546"
  },
  {
   "metadata": {},
   "cell_type": "markdown",
   "source": [
    "### Data analysis / cleaning\n",
    "\n",
    "I'm starting with 10000 games for testing, but I will increase this number later. I will only consider games that are longer than 14 half-moves(7 for each side) and shorter than 200 half-moves(100 for each side) as the longer games are probably in time constraint and the shorter games are probably were aborted or not finished in the dataset. As for the timecontrol I will keep it like this for now but might change it to only rapid or longer time controls as there are a lot of mistakes made in 3+0 games."
   ],
   "id": "2b26f7cde48e3e19"
  },
  {
   "metadata": {
    "ExecuteTime": {
     "end_time": "2025-06-23T15:26:28.308712Z",
     "start_time": "2025-06-23T15:26:28.301020Z"
    }
   },
   "cell_type": "code",
   "source": [
    "feature_data = [\n",
    "    (\"Event\", \"Rated Blitz game\", \"Type of game or tournament.\"),\n",
    "    (\"Date\", \"????.??.??\", \"Date of the event (may be missing).\"),\n",
    "    (\"Round\", \"?\", \"Round number (often unknown in online games).\"),\n",
    "    (\"White\", \"skopje123\", \"Username of the White player.\"),\n",
    "    (\"Black\", \"NIGHTGUEST\", \"Username of the Black player.\"),\n",
    "    (\"Result\", \"0-1\", \"Game outcome: 1-0 (White wins), 0-1 (Black wins), 1/2-1/2 (Draw).\"),\n",
    "    (\"WhiteElo\", \"2361\", \"White player's rating before the game.\"),\n",
    "    (\"BlackElo\", \"2429\", \"Black player's rating before the game.\"),\n",
    "    (\"ECO\", \"D02\", \"ECO opening code (standardized).\"),\n",
    "    (\"Opening\", \"Queen's Gambit Refused: Baltic Defense\", \"Full name of the opening variation.\"),\n",
    "    (\"TimeControl\", \"180+0\", \"Base time (s) + increment (s).\"),\n",
    "    (\"UTCDate\", \"2015.08.31\", \"Date the game started (UTC).\"),\n",
    "    (\"UTCTime\", \"22:00:17\", \"Time the game started (UTC).\"),\n",
    "    (\"Termination\", \"Normal\", \"How the game ended (Normal, Time forfeit, etc.).\"),\n",
    "    (\"WhiteRatingDiff\", \"-9\", \"Rating change for White.\"),\n",
    "    (\"BlackRatingDiff\", \"+9\", \"Rating change for Black.\"),\n",
    "    (\"Moves\", \"1. d4 d5 2. c4 ...\", \"List of moves from the PGN body in Standard Algebraic Notation (SAN).\")\n",
    "]\n",
    "\n",
    "feature_df = pd.DataFrame(feature_data, columns=[\"Feature\", \"Example\", \"Description\"])\n",
    "\n",
    "display(feature_df)"
   ],
   "id": "ad3644a321f41bc2",
   "outputs": [
    {
     "data": {
      "text/plain": [
       "            Feature                                 Example  \\\n",
       "0             Event                        Rated Blitz game   \n",
       "1              Date                              ????.??.??   \n",
       "2             Round                                       ?   \n",
       "3             White                               skopje123   \n",
       "4             Black                              NIGHTGUEST   \n",
       "5            Result                                     0-1   \n",
       "6          WhiteElo                                    2361   \n",
       "7          BlackElo                                    2429   \n",
       "8               ECO                                     D02   \n",
       "9           Opening  Queen's Gambit Refused: Baltic Defense   \n",
       "10      TimeControl                                   180+0   \n",
       "11          UTCDate                              2015.08.31   \n",
       "12          UTCTime                                22:00:17   \n",
       "13      Termination                                  Normal   \n",
       "14  WhiteRatingDiff                                      -9   \n",
       "15  BlackRatingDiff                                      +9   \n",
       "16            Moves                      1. d4 d5 2. c4 ...   \n",
       "\n",
       "                                          Description  \n",
       "0                         Type of game or tournament.  \n",
       "1                 Date of the event (may be missing).  \n",
       "2       Round number (often unknown in online games).  \n",
       "3                       Username of the White player.  \n",
       "4                       Username of the Black player.  \n",
       "5   Game outcome: 1-0 (White wins), 0-1 (Black win...  \n",
       "6              White player's rating before the game.  \n",
       "7              Black player's rating before the game.  \n",
       "8                    ECO opening code (standardized).  \n",
       "9                 Full name of the opening variation.  \n",
       "10                     Base time (s) + increment (s).  \n",
       "11                       Date the game started (UTC).  \n",
       "12                       Time the game started (UTC).  \n",
       "13   How the game ended (Normal, Time forfeit, etc.).  \n",
       "14                           Rating change for White.  \n",
       "15                           Rating change for Black.  \n",
       "16  List of moves from the PGN body in Standard Al...  "
      ],
      "text/html": [
       "<div>\n",
       "<style scoped>\n",
       "    .dataframe tbody tr th:only-of-type {\n",
       "        vertical-align: middle;\n",
       "    }\n",
       "\n",
       "    .dataframe tbody tr th {\n",
       "        vertical-align: top;\n",
       "    }\n",
       "\n",
       "    .dataframe thead th {\n",
       "        text-align: right;\n",
       "    }\n",
       "</style>\n",
       "<table border=\"1\" class=\"dataframe\">\n",
       "  <thead>\n",
       "    <tr style=\"text-align: right;\">\n",
       "      <th></th>\n",
       "      <th>Feature</th>\n",
       "      <th>Example</th>\n",
       "      <th>Description</th>\n",
       "    </tr>\n",
       "  </thead>\n",
       "  <tbody>\n",
       "    <tr>\n",
       "      <th>0</th>\n",
       "      <td>Event</td>\n",
       "      <td>Rated Blitz game</td>\n",
       "      <td>Type of game or tournament.</td>\n",
       "    </tr>\n",
       "    <tr>\n",
       "      <th>1</th>\n",
       "      <td>Date</td>\n",
       "      <td>????.??.??</td>\n",
       "      <td>Date of the event (may be missing).</td>\n",
       "    </tr>\n",
       "    <tr>\n",
       "      <th>2</th>\n",
       "      <td>Round</td>\n",
       "      <td>?</td>\n",
       "      <td>Round number (often unknown in online games).</td>\n",
       "    </tr>\n",
       "    <tr>\n",
       "      <th>3</th>\n",
       "      <td>White</td>\n",
       "      <td>skopje123</td>\n",
       "      <td>Username of the White player.</td>\n",
       "    </tr>\n",
       "    <tr>\n",
       "      <th>4</th>\n",
       "      <td>Black</td>\n",
       "      <td>NIGHTGUEST</td>\n",
       "      <td>Username of the Black player.</td>\n",
       "    </tr>\n",
       "    <tr>\n",
       "      <th>5</th>\n",
       "      <td>Result</td>\n",
       "      <td>0-1</td>\n",
       "      <td>Game outcome: 1-0 (White wins), 0-1 (Black win...</td>\n",
       "    </tr>\n",
       "    <tr>\n",
       "      <th>6</th>\n",
       "      <td>WhiteElo</td>\n",
       "      <td>2361</td>\n",
       "      <td>White player's rating before the game.</td>\n",
       "    </tr>\n",
       "    <tr>\n",
       "      <th>7</th>\n",
       "      <td>BlackElo</td>\n",
       "      <td>2429</td>\n",
       "      <td>Black player's rating before the game.</td>\n",
       "    </tr>\n",
       "    <tr>\n",
       "      <th>8</th>\n",
       "      <td>ECO</td>\n",
       "      <td>D02</td>\n",
       "      <td>ECO opening code (standardized).</td>\n",
       "    </tr>\n",
       "    <tr>\n",
       "      <th>9</th>\n",
       "      <td>Opening</td>\n",
       "      <td>Queen's Gambit Refused: Baltic Defense</td>\n",
       "      <td>Full name of the opening variation.</td>\n",
       "    </tr>\n",
       "    <tr>\n",
       "      <th>10</th>\n",
       "      <td>TimeControl</td>\n",
       "      <td>180+0</td>\n",
       "      <td>Base time (s) + increment (s).</td>\n",
       "    </tr>\n",
       "    <tr>\n",
       "      <th>11</th>\n",
       "      <td>UTCDate</td>\n",
       "      <td>2015.08.31</td>\n",
       "      <td>Date the game started (UTC).</td>\n",
       "    </tr>\n",
       "    <tr>\n",
       "      <th>12</th>\n",
       "      <td>UTCTime</td>\n",
       "      <td>22:00:17</td>\n",
       "      <td>Time the game started (UTC).</td>\n",
       "    </tr>\n",
       "    <tr>\n",
       "      <th>13</th>\n",
       "      <td>Termination</td>\n",
       "      <td>Normal</td>\n",
       "      <td>How the game ended (Normal, Time forfeit, etc.).</td>\n",
       "    </tr>\n",
       "    <tr>\n",
       "      <th>14</th>\n",
       "      <td>WhiteRatingDiff</td>\n",
       "      <td>-9</td>\n",
       "      <td>Rating change for White.</td>\n",
       "    </tr>\n",
       "    <tr>\n",
       "      <th>15</th>\n",
       "      <td>BlackRatingDiff</td>\n",
       "      <td>+9</td>\n",
       "      <td>Rating change for Black.</td>\n",
       "    </tr>\n",
       "    <tr>\n",
       "      <th>16</th>\n",
       "      <td>Moves</td>\n",
       "      <td>1. d4 d5 2. c4 ...</td>\n",
       "      <td>List of moves from the PGN body in Standard Al...</td>\n",
       "    </tr>\n",
       "  </tbody>\n",
       "</table>\n",
       "</div>"
      ]
     },
     "metadata": {},
     "output_type": "display_data"
    }
   ],
   "execution_count": 3
  },
  {
   "cell_type": "code",
   "id": "initial_id",
   "metadata": {
    "collapsed": true,
    "ExecuteTime": {
     "end_time": "2025-06-23T15:26:41.824232Z",
     "start_time": "2025-06-23T15:26:28.373533Z"
    }
   },
   "source": [
    "def analyze_pgn_file(path, max_games=10000, min_halfmoves=15, max_halfmoves=200):\n",
    "    result_counter = Counter()\n",
    "    first_move_counter = Counter()\n",
    "    game_lengths = []\n",
    "    time_controls = Counter()\n",
    "    opening_counter = Counter()\n",
    "    eco_counter = Counter()\n",
    "    termination_counter = Counter()\n",
    "    lengths_by_result = {\"1-0\": [], \"0-1\": [], \"1/2-1/2\": []}\n",
    "\n",
    "    with open(path, encoding='utf-8') as f:\n",
    "        for i in range(max_games):\n",
    "            game = chess.pgn.read_game(f)\n",
    "            if game is None:\n",
    "                break\n",
    "\n",
    "            moves = list(game.mainline_moves())\n",
    "            plies = len(moves)\n",
    "\n",
    "            if plies < min_halfmoves or plies > max_halfmoves:\n",
    "                continue\n",
    "\n",
    "            opening_name = game.headers.get(\"Opening\", \"Unknown\")\n",
    "            opening_counter[opening_name] += 1\n",
    "\n",
    "            eco = game.headers.get(\"ECO\", \"Unknown\")\n",
    "            eco_counter[eco] += 1\n",
    "\n",
    "            termination = game.headers.get(\"Termination\", \"Unknown\")\n",
    "            termination_counter[termination] += 1\n",
    "\n",
    "            result = game.headers.get(\"Result\", \"unknown\")\n",
    "            result_counter[result] += 1\n",
    "\n",
    "            if result in lengths_by_result:\n",
    "                lengths_by_result[result].append(plies)\n",
    "\n",
    "            tc = game.headers.get(\"TimeControl\", \"?\")\n",
    "            time_controls[tc] += 1\n",
    "\n",
    "            game_lengths.append(plies)\n",
    "\n",
    "            board = game.board()\n",
    "            if moves:\n",
    "                first_move = board.san(moves[0])\n",
    "                first_move_counter[first_move] += 1\n",
    "\n",
    "    return result_counter, first_move_counter, game_lengths, time_controls, opening_counter, eco_counter, termination_counter, lengths_by_result\n",
    "\n",
    "def categorize_time_control(tc_str):\n",
    "    if \"+\" not in tc_str or tc_str == \"?\":\n",
    "        return \"Unknown\"\n",
    "    try:\n",
    "        base, inc = tc_str.split(\"+\")\n",
    "        base = int(base)\n",
    "        if base < 180:\n",
    "            return \"Bullet\"\n",
    "        elif base < 600:\n",
    "            return \"Blitz\"\n",
    "        elif base < 1800:\n",
    "            return \"Rapid\"\n",
    "        else:\n",
    "            return \"Classical\"\n",
    "    except:\n",
    "        return \"Unknown\"\n",
    "\n",
    "results, first_moves, lengths, time_controls, openings, ecos, terminations, lengths_by_result = analyze_pgn_file(pgn_path)\n",
    "\n",
    "results_df = pd.DataFrame(results.items(), columns=[\"Result\", \"Count\"]).sort_values(by=\"Count\", ascending=False)\n",
    "first_moves_df = pd.DataFrame(first_moves.most_common(10), columns=[\"First Move\", \"Frequency\"])\n",
    "tc_df = pd.DataFrame(time_controls.items(), columns=[\"Time Control\", \"Count\"]).sort_values(by=\"Count\", ascending=False)\n",
    "\n",
    "tc_df[\"Category\"] = tc_df[\"Time Control\"].apply(categorize_time_control)\n",
    "tc_category_df = tc_df.groupby(\"Category\")[\"Count\"].sum().reset_index().sort_values(by=\"Count\", ascending=False)\n",
    "\n",
    "print(\"Game Result Distribution:\")\n",
    "display(results_df)\n",
    "\n",
    "print(\"Most Common First Moves:\")\n",
    "display(first_moves_df)\n",
    "\n",
    "print(\"Time Control Frequencies:\")\n",
    "display(tc_df)\n",
    "\n",
    "print(\"Time Control Categories:\")\n",
    "display(tc_category_df)\n",
    "\n",
    "avg_length = sum(lengths) / len(lengths)\n",
    "print(f\"Average Game Length (plies): {avg_length:.2f}\")\n",
    "\n",
    "openings_df = pd.DataFrame(openings.most_common(10), columns=[\"Opening\", \"Count\"])\n",
    "print(\"Most Common Full Openings:\")\n",
    "display(openings_df)\n",
    "\n",
    "eco_df = pd.DataFrame(ecos.most_common(10), columns=[\"ECO Code\", \"Count\"])\n",
    "print(\"Most Common ECO Codes:\")\n",
    "display(eco_df)\n",
    "\n",
    "termination_df = pd.DataFrame(terminations.items(), columns=[\"Termination\", \"Count\"]).sort_values(by=\"Count\", ascending=False)\n",
    "print(\"Game Termination Types:\")\n",
    "display(termination_df)"
   ],
   "outputs": [
    {
     "name": "stdout",
     "output_type": "stream",
     "text": [
      "Game Result Distribution:\n"
     ]
    },
    {
     "data": {
      "text/plain": [
       "    Result  Count\n",
       "0      1-0   4701\n",
       "1      0-1   4408\n",
       "2  1/2-1/2    825"
      ],
      "text/html": [
       "<div>\n",
       "<style scoped>\n",
       "    .dataframe tbody tr th:only-of-type {\n",
       "        vertical-align: middle;\n",
       "    }\n",
       "\n",
       "    .dataframe tbody tr th {\n",
       "        vertical-align: top;\n",
       "    }\n",
       "\n",
       "    .dataframe thead th {\n",
       "        text-align: right;\n",
       "    }\n",
       "</style>\n",
       "<table border=\"1\" class=\"dataframe\">\n",
       "  <thead>\n",
       "    <tr style=\"text-align: right;\">\n",
       "      <th></th>\n",
       "      <th>Result</th>\n",
       "      <th>Count</th>\n",
       "    </tr>\n",
       "  </thead>\n",
       "  <tbody>\n",
       "    <tr>\n",
       "      <th>0</th>\n",
       "      <td>1-0</td>\n",
       "      <td>4701</td>\n",
       "    </tr>\n",
       "    <tr>\n",
       "      <th>1</th>\n",
       "      <td>0-1</td>\n",
       "      <td>4408</td>\n",
       "    </tr>\n",
       "    <tr>\n",
       "      <th>2</th>\n",
       "      <td>1/2-1/2</td>\n",
       "      <td>825</td>\n",
       "    </tr>\n",
       "  </tbody>\n",
       "</table>\n",
       "</div>"
      ]
     },
     "metadata": {},
     "output_type": "display_data"
    },
    {
     "name": "stdout",
     "output_type": "stream",
     "text": [
      "Most Common First Moves:\n"
     ]
    },
    {
     "data": {
      "text/plain": [
       "  First Move  Frequency\n",
       "0         e4       4711\n",
       "1         d4       3448\n",
       "2        Nf3        794\n",
       "3         c4        517\n",
       "4         b3        123\n",
       "5         g3         93\n",
       "6         b4         64\n",
       "7        Nc3         46\n",
       "8         f4         39\n",
       "9         e3         37"
      ],
      "text/html": [
       "<div>\n",
       "<style scoped>\n",
       "    .dataframe tbody tr th:only-of-type {\n",
       "        vertical-align: middle;\n",
       "    }\n",
       "\n",
       "    .dataframe tbody tr th {\n",
       "        vertical-align: top;\n",
       "    }\n",
       "\n",
       "    .dataframe thead th {\n",
       "        text-align: right;\n",
       "    }\n",
       "</style>\n",
       "<table border=\"1\" class=\"dataframe\">\n",
       "  <thead>\n",
       "    <tr style=\"text-align: right;\">\n",
       "      <th></th>\n",
       "      <th>First Move</th>\n",
       "      <th>Frequency</th>\n",
       "    </tr>\n",
       "  </thead>\n",
       "  <tbody>\n",
       "    <tr>\n",
       "      <th>0</th>\n",
       "      <td>e4</td>\n",
       "      <td>4711</td>\n",
       "    </tr>\n",
       "    <tr>\n",
       "      <th>1</th>\n",
       "      <td>d4</td>\n",
       "      <td>3448</td>\n",
       "    </tr>\n",
       "    <tr>\n",
       "      <th>2</th>\n",
       "      <td>Nf3</td>\n",
       "      <td>794</td>\n",
       "    </tr>\n",
       "    <tr>\n",
       "      <th>3</th>\n",
       "      <td>c4</td>\n",
       "      <td>517</td>\n",
       "    </tr>\n",
       "    <tr>\n",
       "      <th>4</th>\n",
       "      <td>b3</td>\n",
       "      <td>123</td>\n",
       "    </tr>\n",
       "    <tr>\n",
       "      <th>5</th>\n",
       "      <td>g3</td>\n",
       "      <td>93</td>\n",
       "    </tr>\n",
       "    <tr>\n",
       "      <th>6</th>\n",
       "      <td>b4</td>\n",
       "      <td>64</td>\n",
       "    </tr>\n",
       "    <tr>\n",
       "      <th>7</th>\n",
       "      <td>Nc3</td>\n",
       "      <td>46</td>\n",
       "    </tr>\n",
       "    <tr>\n",
       "      <th>8</th>\n",
       "      <td>f4</td>\n",
       "      <td>39</td>\n",
       "    </tr>\n",
       "    <tr>\n",
       "      <th>9</th>\n",
       "      <td>e3</td>\n",
       "      <td>37</td>\n",
       "    </tr>\n",
       "  </tbody>\n",
       "</table>\n",
       "</div>"
      ]
     },
     "metadata": {},
     "output_type": "display_data"
    },
    {
     "name": "stdout",
     "output_type": "stream",
     "text": [
      "Time Control Frequencies:\n"
     ]
    },
    {
     "data": {
      "text/plain": [
       "   Time Control  Count   Category\n",
       "0         180+0   8647      Blitz\n",
       "7         180+1    360      Blitz\n",
       "5         180+2    209      Blitz\n",
       "2         300+0    175      Blitz\n",
       "6          60+3    132     Bullet\n",
       "18        120+2    116     Bullet\n",
       "9         240+0     93      Blitz\n",
       "3         180+3     42      Blitz\n",
       "15        480+0     34      Blitz\n",
       "24        600+0     12      Rapid\n",
       "10        300+3     10      Blitz\n",
       "13        300+8      8      Blitz\n",
       "33        300+2      7      Blitz\n",
       "32       600+15      6      Rapid\n",
       "37        180+5      6      Blitz\n",
       "47        420+0      6      Blitz\n",
       "23        60+20      5     Bullet\n",
       "26       600+10      5      Rapid\n",
       "22        240+2      5      Blitz\n",
       "1         120+4      5     Bullet\n",
       "31        600+1      4      Rapid\n",
       "29        60+10      3     Bullet\n",
       "30        300+6      3      Blitz\n",
       "25        240+3      3      Blitz\n",
       "39        600+8      3      Rapid\n",
       "50        420+1      3      Blitz\n",
       "14        300+4      3      Blitz\n",
       "8         360+8      2      Blitz\n",
       "49        120+3      2     Bullet\n",
       "43       300+10      2      Blitz\n",
       "28         60+9      2     Bullet\n",
       "17        360+4      1      Blitz\n",
       "4        420+10      1      Blitz\n",
       "11        480+8      1      Blitz\n",
       "16         0+16      1     Bullet\n",
       "12       240+10      1      Blitz\n",
       "19        240+1      1      Blitz\n",
       "35       180+10      1      Blitz\n",
       "20       120+12      1     Bullet\n",
       "27          0+6      1     Bullet\n",
       "21         0+15      1     Bullet\n",
       "34        180+8      1      Blitz\n",
       "38       3600+0      1  Classical\n",
       "36        300+9      1      Blitz\n",
       "42       240+20      1      Blitz\n",
       "41        900+0      1      Rapid\n",
       "40        420+5      1      Blitz\n",
       "44        420+4      1      Blitz\n",
       "46        180+4      1      Blitz\n",
       "45        360+0      1      Blitz\n",
       "48        300+5      1      Blitz\n",
       "51        300+1      1      Blitz"
      ],
      "text/html": [
       "<div>\n",
       "<style scoped>\n",
       "    .dataframe tbody tr th:only-of-type {\n",
       "        vertical-align: middle;\n",
       "    }\n",
       "\n",
       "    .dataframe tbody tr th {\n",
       "        vertical-align: top;\n",
       "    }\n",
       "\n",
       "    .dataframe thead th {\n",
       "        text-align: right;\n",
       "    }\n",
       "</style>\n",
       "<table border=\"1\" class=\"dataframe\">\n",
       "  <thead>\n",
       "    <tr style=\"text-align: right;\">\n",
       "      <th></th>\n",
       "      <th>Time Control</th>\n",
       "      <th>Count</th>\n",
       "      <th>Category</th>\n",
       "    </tr>\n",
       "  </thead>\n",
       "  <tbody>\n",
       "    <tr>\n",
       "      <th>0</th>\n",
       "      <td>180+0</td>\n",
       "      <td>8647</td>\n",
       "      <td>Blitz</td>\n",
       "    </tr>\n",
       "    <tr>\n",
       "      <th>7</th>\n",
       "      <td>180+1</td>\n",
       "      <td>360</td>\n",
       "      <td>Blitz</td>\n",
       "    </tr>\n",
       "    <tr>\n",
       "      <th>5</th>\n",
       "      <td>180+2</td>\n",
       "      <td>209</td>\n",
       "      <td>Blitz</td>\n",
       "    </tr>\n",
       "    <tr>\n",
       "      <th>2</th>\n",
       "      <td>300+0</td>\n",
       "      <td>175</td>\n",
       "      <td>Blitz</td>\n",
       "    </tr>\n",
       "    <tr>\n",
       "      <th>6</th>\n",
       "      <td>60+3</td>\n",
       "      <td>132</td>\n",
       "      <td>Bullet</td>\n",
       "    </tr>\n",
       "    <tr>\n",
       "      <th>18</th>\n",
       "      <td>120+2</td>\n",
       "      <td>116</td>\n",
       "      <td>Bullet</td>\n",
       "    </tr>\n",
       "    <tr>\n",
       "      <th>9</th>\n",
       "      <td>240+0</td>\n",
       "      <td>93</td>\n",
       "      <td>Blitz</td>\n",
       "    </tr>\n",
       "    <tr>\n",
       "      <th>3</th>\n",
       "      <td>180+3</td>\n",
       "      <td>42</td>\n",
       "      <td>Blitz</td>\n",
       "    </tr>\n",
       "    <tr>\n",
       "      <th>15</th>\n",
       "      <td>480+0</td>\n",
       "      <td>34</td>\n",
       "      <td>Blitz</td>\n",
       "    </tr>\n",
       "    <tr>\n",
       "      <th>24</th>\n",
       "      <td>600+0</td>\n",
       "      <td>12</td>\n",
       "      <td>Rapid</td>\n",
       "    </tr>\n",
       "    <tr>\n",
       "      <th>10</th>\n",
       "      <td>300+3</td>\n",
       "      <td>10</td>\n",
       "      <td>Blitz</td>\n",
       "    </tr>\n",
       "    <tr>\n",
       "      <th>13</th>\n",
       "      <td>300+8</td>\n",
       "      <td>8</td>\n",
       "      <td>Blitz</td>\n",
       "    </tr>\n",
       "    <tr>\n",
       "      <th>33</th>\n",
       "      <td>300+2</td>\n",
       "      <td>7</td>\n",
       "      <td>Blitz</td>\n",
       "    </tr>\n",
       "    <tr>\n",
       "      <th>32</th>\n",
       "      <td>600+15</td>\n",
       "      <td>6</td>\n",
       "      <td>Rapid</td>\n",
       "    </tr>\n",
       "    <tr>\n",
       "      <th>37</th>\n",
       "      <td>180+5</td>\n",
       "      <td>6</td>\n",
       "      <td>Blitz</td>\n",
       "    </tr>\n",
       "    <tr>\n",
       "      <th>47</th>\n",
       "      <td>420+0</td>\n",
       "      <td>6</td>\n",
       "      <td>Blitz</td>\n",
       "    </tr>\n",
       "    <tr>\n",
       "      <th>23</th>\n",
       "      <td>60+20</td>\n",
       "      <td>5</td>\n",
       "      <td>Bullet</td>\n",
       "    </tr>\n",
       "    <tr>\n",
       "      <th>26</th>\n",
       "      <td>600+10</td>\n",
       "      <td>5</td>\n",
       "      <td>Rapid</td>\n",
       "    </tr>\n",
       "    <tr>\n",
       "      <th>22</th>\n",
       "      <td>240+2</td>\n",
       "      <td>5</td>\n",
       "      <td>Blitz</td>\n",
       "    </tr>\n",
       "    <tr>\n",
       "      <th>1</th>\n",
       "      <td>120+4</td>\n",
       "      <td>5</td>\n",
       "      <td>Bullet</td>\n",
       "    </tr>\n",
       "    <tr>\n",
       "      <th>31</th>\n",
       "      <td>600+1</td>\n",
       "      <td>4</td>\n",
       "      <td>Rapid</td>\n",
       "    </tr>\n",
       "    <tr>\n",
       "      <th>29</th>\n",
       "      <td>60+10</td>\n",
       "      <td>3</td>\n",
       "      <td>Bullet</td>\n",
       "    </tr>\n",
       "    <tr>\n",
       "      <th>30</th>\n",
       "      <td>300+6</td>\n",
       "      <td>3</td>\n",
       "      <td>Blitz</td>\n",
       "    </tr>\n",
       "    <tr>\n",
       "      <th>25</th>\n",
       "      <td>240+3</td>\n",
       "      <td>3</td>\n",
       "      <td>Blitz</td>\n",
       "    </tr>\n",
       "    <tr>\n",
       "      <th>39</th>\n",
       "      <td>600+8</td>\n",
       "      <td>3</td>\n",
       "      <td>Rapid</td>\n",
       "    </tr>\n",
       "    <tr>\n",
       "      <th>50</th>\n",
       "      <td>420+1</td>\n",
       "      <td>3</td>\n",
       "      <td>Blitz</td>\n",
       "    </tr>\n",
       "    <tr>\n",
       "      <th>14</th>\n",
       "      <td>300+4</td>\n",
       "      <td>3</td>\n",
       "      <td>Blitz</td>\n",
       "    </tr>\n",
       "    <tr>\n",
       "      <th>8</th>\n",
       "      <td>360+8</td>\n",
       "      <td>2</td>\n",
       "      <td>Blitz</td>\n",
       "    </tr>\n",
       "    <tr>\n",
       "      <th>49</th>\n",
       "      <td>120+3</td>\n",
       "      <td>2</td>\n",
       "      <td>Bullet</td>\n",
       "    </tr>\n",
       "    <tr>\n",
       "      <th>43</th>\n",
       "      <td>300+10</td>\n",
       "      <td>2</td>\n",
       "      <td>Blitz</td>\n",
       "    </tr>\n",
       "    <tr>\n",
       "      <th>28</th>\n",
       "      <td>60+9</td>\n",
       "      <td>2</td>\n",
       "      <td>Bullet</td>\n",
       "    </tr>\n",
       "    <tr>\n",
       "      <th>17</th>\n",
       "      <td>360+4</td>\n",
       "      <td>1</td>\n",
       "      <td>Blitz</td>\n",
       "    </tr>\n",
       "    <tr>\n",
       "      <th>4</th>\n",
       "      <td>420+10</td>\n",
       "      <td>1</td>\n",
       "      <td>Blitz</td>\n",
       "    </tr>\n",
       "    <tr>\n",
       "      <th>11</th>\n",
       "      <td>480+8</td>\n",
       "      <td>1</td>\n",
       "      <td>Blitz</td>\n",
       "    </tr>\n",
       "    <tr>\n",
       "      <th>16</th>\n",
       "      <td>0+16</td>\n",
       "      <td>1</td>\n",
       "      <td>Bullet</td>\n",
       "    </tr>\n",
       "    <tr>\n",
       "      <th>12</th>\n",
       "      <td>240+10</td>\n",
       "      <td>1</td>\n",
       "      <td>Blitz</td>\n",
       "    </tr>\n",
       "    <tr>\n",
       "      <th>19</th>\n",
       "      <td>240+1</td>\n",
       "      <td>1</td>\n",
       "      <td>Blitz</td>\n",
       "    </tr>\n",
       "    <tr>\n",
       "      <th>35</th>\n",
       "      <td>180+10</td>\n",
       "      <td>1</td>\n",
       "      <td>Blitz</td>\n",
       "    </tr>\n",
       "    <tr>\n",
       "      <th>20</th>\n",
       "      <td>120+12</td>\n",
       "      <td>1</td>\n",
       "      <td>Bullet</td>\n",
       "    </tr>\n",
       "    <tr>\n",
       "      <th>27</th>\n",
       "      <td>0+6</td>\n",
       "      <td>1</td>\n",
       "      <td>Bullet</td>\n",
       "    </tr>\n",
       "    <tr>\n",
       "      <th>21</th>\n",
       "      <td>0+15</td>\n",
       "      <td>1</td>\n",
       "      <td>Bullet</td>\n",
       "    </tr>\n",
       "    <tr>\n",
       "      <th>34</th>\n",
       "      <td>180+8</td>\n",
       "      <td>1</td>\n",
       "      <td>Blitz</td>\n",
       "    </tr>\n",
       "    <tr>\n",
       "      <th>38</th>\n",
       "      <td>3600+0</td>\n",
       "      <td>1</td>\n",
       "      <td>Classical</td>\n",
       "    </tr>\n",
       "    <tr>\n",
       "      <th>36</th>\n",
       "      <td>300+9</td>\n",
       "      <td>1</td>\n",
       "      <td>Blitz</td>\n",
       "    </tr>\n",
       "    <tr>\n",
       "      <th>42</th>\n",
       "      <td>240+20</td>\n",
       "      <td>1</td>\n",
       "      <td>Blitz</td>\n",
       "    </tr>\n",
       "    <tr>\n",
       "      <th>41</th>\n",
       "      <td>900+0</td>\n",
       "      <td>1</td>\n",
       "      <td>Rapid</td>\n",
       "    </tr>\n",
       "    <tr>\n",
       "      <th>40</th>\n",
       "      <td>420+5</td>\n",
       "      <td>1</td>\n",
       "      <td>Blitz</td>\n",
       "    </tr>\n",
       "    <tr>\n",
       "      <th>44</th>\n",
       "      <td>420+4</td>\n",
       "      <td>1</td>\n",
       "      <td>Blitz</td>\n",
       "    </tr>\n",
       "    <tr>\n",
       "      <th>46</th>\n",
       "      <td>180+4</td>\n",
       "      <td>1</td>\n",
       "      <td>Blitz</td>\n",
       "    </tr>\n",
       "    <tr>\n",
       "      <th>45</th>\n",
       "      <td>360+0</td>\n",
       "      <td>1</td>\n",
       "      <td>Blitz</td>\n",
       "    </tr>\n",
       "    <tr>\n",
       "      <th>48</th>\n",
       "      <td>300+5</td>\n",
       "      <td>1</td>\n",
       "      <td>Blitz</td>\n",
       "    </tr>\n",
       "    <tr>\n",
       "      <th>51</th>\n",
       "      <td>300+1</td>\n",
       "      <td>1</td>\n",
       "      <td>Blitz</td>\n",
       "    </tr>\n",
       "  </tbody>\n",
       "</table>\n",
       "</div>"
      ]
     },
     "metadata": {},
     "output_type": "display_data"
    },
    {
     "name": "stdout",
     "output_type": "stream",
     "text": [
      "Time Control Categories:\n"
     ]
    },
    {
     "data": {
      "text/plain": [
       "    Category  Count\n",
       "0      Blitz   9633\n",
       "1     Bullet    269\n",
       "3      Rapid     31\n",
       "2  Classical      1"
      ],
      "text/html": [
       "<div>\n",
       "<style scoped>\n",
       "    .dataframe tbody tr th:only-of-type {\n",
       "        vertical-align: middle;\n",
       "    }\n",
       "\n",
       "    .dataframe tbody tr th {\n",
       "        vertical-align: top;\n",
       "    }\n",
       "\n",
       "    .dataframe thead th {\n",
       "        text-align: right;\n",
       "    }\n",
       "</style>\n",
       "<table border=\"1\" class=\"dataframe\">\n",
       "  <thead>\n",
       "    <tr style=\"text-align: right;\">\n",
       "      <th></th>\n",
       "      <th>Category</th>\n",
       "      <th>Count</th>\n",
       "    </tr>\n",
       "  </thead>\n",
       "  <tbody>\n",
       "    <tr>\n",
       "      <th>0</th>\n",
       "      <td>Blitz</td>\n",
       "      <td>9633</td>\n",
       "    </tr>\n",
       "    <tr>\n",
       "      <th>1</th>\n",
       "      <td>Bullet</td>\n",
       "      <td>269</td>\n",
       "    </tr>\n",
       "    <tr>\n",
       "      <th>3</th>\n",
       "      <td>Rapid</td>\n",
       "      <td>31</td>\n",
       "    </tr>\n",
       "    <tr>\n",
       "      <th>2</th>\n",
       "      <td>Classical</td>\n",
       "      <td>1</td>\n",
       "    </tr>\n",
       "  </tbody>\n",
       "</table>\n",
       "</div>"
      ]
     },
     "metadata": {},
     "output_type": "display_data"
    },
    {
     "name": "stdout",
     "output_type": "stream",
     "text": [
      "Average Game Length (plies): 82.32\n",
      "Most Common Full Openings:\n"
     ]
    },
    {
     "data": {
      "text/plain": [
       "                                             Opening  Count\n",
       "0                    Scandinavian Defense: Main Line    236\n",
       "1      Scandinavian Defense: Mieses-Kotroc Variation    218\n",
       "2                                  Trompowsky Attack    180\n",
       "3                 Sicilian Defense: Alapin Variation    144\n",
       "4                               Scandinavian Defense    142\n",
       "5  Trompowsky Attack: Classical Defense, Big Cent...    106\n",
       "6  Scandinavian Defense: Main Line, Mieses Variation     97\n",
       "7       Scandinavian Defense: Gubinsky-Melts Defense     96\n",
       "8  Sicilian Defense: Alapin Variation, Barmen Def...     95\n",
       "9                                     Modern Defense     91"
      ],
      "text/html": [
       "<div>\n",
       "<style scoped>\n",
       "    .dataframe tbody tr th:only-of-type {\n",
       "        vertical-align: middle;\n",
       "    }\n",
       "\n",
       "    .dataframe tbody tr th {\n",
       "        vertical-align: top;\n",
       "    }\n",
       "\n",
       "    .dataframe thead th {\n",
       "        text-align: right;\n",
       "    }\n",
       "</style>\n",
       "<table border=\"1\" class=\"dataframe\">\n",
       "  <thead>\n",
       "    <tr style=\"text-align: right;\">\n",
       "      <th></th>\n",
       "      <th>Opening</th>\n",
       "      <th>Count</th>\n",
       "    </tr>\n",
       "  </thead>\n",
       "  <tbody>\n",
       "    <tr>\n",
       "      <th>0</th>\n",
       "      <td>Scandinavian Defense: Main Line</td>\n",
       "      <td>236</td>\n",
       "    </tr>\n",
       "    <tr>\n",
       "      <th>1</th>\n",
       "      <td>Scandinavian Defense: Mieses-Kotroc Variation</td>\n",
       "      <td>218</td>\n",
       "    </tr>\n",
       "    <tr>\n",
       "      <th>2</th>\n",
       "      <td>Trompowsky Attack</td>\n",
       "      <td>180</td>\n",
       "    </tr>\n",
       "    <tr>\n",
       "      <th>3</th>\n",
       "      <td>Sicilian Defense: Alapin Variation</td>\n",
       "      <td>144</td>\n",
       "    </tr>\n",
       "    <tr>\n",
       "      <th>4</th>\n",
       "      <td>Scandinavian Defense</td>\n",
       "      <td>142</td>\n",
       "    </tr>\n",
       "    <tr>\n",
       "      <th>5</th>\n",
       "      <td>Trompowsky Attack: Classical Defense, Big Cent...</td>\n",
       "      <td>106</td>\n",
       "    </tr>\n",
       "    <tr>\n",
       "      <th>6</th>\n",
       "      <td>Scandinavian Defense: Main Line, Mieses Variation</td>\n",
       "      <td>97</td>\n",
       "    </tr>\n",
       "    <tr>\n",
       "      <th>7</th>\n",
       "      <td>Scandinavian Defense: Gubinsky-Melts Defense</td>\n",
       "      <td>96</td>\n",
       "    </tr>\n",
       "    <tr>\n",
       "      <th>8</th>\n",
       "      <td>Sicilian Defense: Alapin Variation, Barmen Def...</td>\n",
       "      <td>95</td>\n",
       "    </tr>\n",
       "    <tr>\n",
       "      <th>9</th>\n",
       "      <td>Modern Defense</td>\n",
       "      <td>91</td>\n",
       "    </tr>\n",
       "  </tbody>\n",
       "</table>\n",
       "</div>"
      ]
     },
     "metadata": {},
     "output_type": "display_data"
    },
    {
     "name": "stdout",
     "output_type": "stream",
     "text": [
      "Most Common ECO Codes:\n"
     ]
    },
    {
     "data": {
      "text/plain": [
       "  ECO Code  Count\n",
       "0      B01    961\n",
       "1      A45    471\n",
       "2      B22    273\n",
       "3      A40    263\n",
       "4      A00    241\n",
       "5      D02    235\n",
       "6      B06    223\n",
       "7      A04    220\n",
       "8      B12    186\n",
       "9      A46    182"
      ],
      "text/html": [
       "<div>\n",
       "<style scoped>\n",
       "    .dataframe tbody tr th:only-of-type {\n",
       "        vertical-align: middle;\n",
       "    }\n",
       "\n",
       "    .dataframe tbody tr th {\n",
       "        vertical-align: top;\n",
       "    }\n",
       "\n",
       "    .dataframe thead th {\n",
       "        text-align: right;\n",
       "    }\n",
       "</style>\n",
       "<table border=\"1\" class=\"dataframe\">\n",
       "  <thead>\n",
       "    <tr style=\"text-align: right;\">\n",
       "      <th></th>\n",
       "      <th>ECO Code</th>\n",
       "      <th>Count</th>\n",
       "    </tr>\n",
       "  </thead>\n",
       "  <tbody>\n",
       "    <tr>\n",
       "      <th>0</th>\n",
       "      <td>B01</td>\n",
       "      <td>961</td>\n",
       "    </tr>\n",
       "    <tr>\n",
       "      <th>1</th>\n",
       "      <td>A45</td>\n",
       "      <td>471</td>\n",
       "    </tr>\n",
       "    <tr>\n",
       "      <th>2</th>\n",
       "      <td>B22</td>\n",
       "      <td>273</td>\n",
       "    </tr>\n",
       "    <tr>\n",
       "      <th>3</th>\n",
       "      <td>A40</td>\n",
       "      <td>263</td>\n",
       "    </tr>\n",
       "    <tr>\n",
       "      <th>4</th>\n",
       "      <td>A00</td>\n",
       "      <td>241</td>\n",
       "    </tr>\n",
       "    <tr>\n",
       "      <th>5</th>\n",
       "      <td>D02</td>\n",
       "      <td>235</td>\n",
       "    </tr>\n",
       "    <tr>\n",
       "      <th>6</th>\n",
       "      <td>B06</td>\n",
       "      <td>223</td>\n",
       "    </tr>\n",
       "    <tr>\n",
       "      <th>7</th>\n",
       "      <td>A04</td>\n",
       "      <td>220</td>\n",
       "    </tr>\n",
       "    <tr>\n",
       "      <th>8</th>\n",
       "      <td>B12</td>\n",
       "      <td>186</td>\n",
       "    </tr>\n",
       "    <tr>\n",
       "      <th>9</th>\n",
       "      <td>A46</td>\n",
       "      <td>182</td>\n",
       "    </tr>\n",
       "  </tbody>\n",
       "</table>\n",
       "</div>"
      ]
     },
     "metadata": {},
     "output_type": "display_data"
    },
    {
     "name": "stdout",
     "output_type": "stream",
     "text": [
      "Game Termination Types:\n"
     ]
    },
    {
     "data": {
      "text/plain": [
       "    Termination  Count\n",
       "0        Normal   7596\n",
       "1  Time forfeit   2338"
      ],
      "text/html": [
       "<div>\n",
       "<style scoped>\n",
       "    .dataframe tbody tr th:only-of-type {\n",
       "        vertical-align: middle;\n",
       "    }\n",
       "\n",
       "    .dataframe tbody tr th {\n",
       "        vertical-align: top;\n",
       "    }\n",
       "\n",
       "    .dataframe thead th {\n",
       "        text-align: right;\n",
       "    }\n",
       "</style>\n",
       "<table border=\"1\" class=\"dataframe\">\n",
       "  <thead>\n",
       "    <tr style=\"text-align: right;\">\n",
       "      <th></th>\n",
       "      <th>Termination</th>\n",
       "      <th>Count</th>\n",
       "    </tr>\n",
       "  </thead>\n",
       "  <tbody>\n",
       "    <tr>\n",
       "      <th>0</th>\n",
       "      <td>Normal</td>\n",
       "      <td>7596</td>\n",
       "    </tr>\n",
       "    <tr>\n",
       "      <th>1</th>\n",
       "      <td>Time forfeit</td>\n",
       "      <td>2338</td>\n",
       "    </tr>\n",
       "  </tbody>\n",
       "</table>\n",
       "</div>"
      ]
     },
     "metadata": {},
     "output_type": "display_data"
    }
   ],
   "execution_count": 4
  },
  {
   "metadata": {
    "ExecuteTime": {
     "end_time": "2025-06-23T15:26:42.523680Z",
     "start_time": "2025-06-23T15:26:41.987821Z"
    }
   },
   "cell_type": "code",
   "source": [
    "plt.figure(figsize=(8, 5))\n",
    "plt.hist(lengths, bins=50, color='skyblue', edgecolor='black')\n",
    "plt.title(\"Game Length Distribution\")\n",
    "plt.xlabel(\"Half-moves\")\n",
    "plt.ylabel(\"Frequency\")\n",
    "plt.grid(True)\n",
    "plt.show()\n",
    "\n",
    "plt.figure(figsize=(8, 5))\n",
    "for result, length_list in lengths_by_result.items():\n",
    "    if length_list:\n",
    "        plt.hist(length_list, bins=50, alpha=0.6, label=result)\n",
    "plt.title(\"Game Length by Result\")\n",
    "plt.xlabel(\"Half-moves\")\n",
    "plt.ylabel(\"Frequency\")\n",
    "plt.legend()\n",
    "plt.grid(True)\n",
    "plt.show()\n",
    "\n",
    "plt.figure(figsize=(6, 4))\n",
    "plt.bar(results_df[\"Result\"], results_df[\"Count\"], color=\"lightgreen\", edgecolor=\"black\")\n",
    "plt.title(\"Game Result Distribution\")\n",
    "plt.xlabel(\"Result\")\n",
    "plt.ylabel(\"Count\")\n",
    "plt.grid(axis=\"y\")\n",
    "plt.show()\n",
    "\n",
    "plt.figure(figsize=(6, 4))\n",
    "plt.bar(tc_category_df[\"Category\"], tc_category_df[\"Count\"], color=\"salmon\", edgecolor=\"black\")\n",
    "plt.title(\"Time Control Categories\")\n",
    "plt.xlabel(\"Category\")\n",
    "plt.ylabel(\"Count\")\n",
    "plt.grid(axis=\"y\")\n",
    "plt.show()\n",
    "\n",
    "plt.figure(figsize=(10, 6))\n",
    "plt.barh(openings_df[\"Opening\"][::-1], openings_df[\"Count\"][::-1], color=\"cornflowerblue\", edgecolor=\"black\")\n",
    "plt.title(\"Top 10 Full Openings\")\n",
    "plt.xlabel(\"Count\")\n",
    "plt.grid(axis=\"x\")\n",
    "plt.tight_layout()\n",
    "plt.show()\n",
    "\n",
    "plt.figure(figsize=(8, 5))\n",
    "plt.bar(eco_df[\"ECO Code\"], eco_df[\"Count\"], color=\"mediumpurple\", edgecolor=\"black\")\n",
    "plt.title(\"Top 10 ECO Codes\")\n",
    "plt.xlabel(\"ECO Code\")\n",
    "plt.ylabel(\"Count\")\n",
    "plt.grid(axis=\"y\")\n",
    "plt.show()\n",
    "\n",
    "plt.figure(figsize=(8, 4))\n",
    "plt.bar(termination_df[\"Termination\"], termination_df[\"Count\"], color=\"orange\", edgecolor=\"black\")\n",
    "plt.title(\"Game Termination Types\")\n",
    "plt.xlabel(\"Termination\")\n",
    "plt.ylabel(\"Count\")\n",
    "plt.xticks(rotation=30, ha=\"right\")\n",
    "plt.grid(axis=\"y\")\n",
    "plt.tight_layout()\n",
    "plt.show()"
   ],
   "id": "acb854e1ef0926a3",
   "outputs": [
    {
     "data": {
      "text/plain": [
       "<Figure size 800x500 with 1 Axes>"
      ],
      "image/png": "[encoded data removed]"
     },
     "metadata": {},
     "output_type": "display_data"
    },
    {
     "data": {
      "text/plain": [
       "<Figure size 800x500 with 1 Axes>"
      ],
      "image/png": "[encoded data removed]"
     },
     "metadata": {},
     "output_type": "display_data"
    },
    {
     "data": {
      "text/plain": [
       "<Figure size 600x400 with 1 Axes>"
      ],
      "image/png": "[encoded data removed]"
     },
     "metadata": {},
     "output_type": "display_data"
    },
    {
     "data": {
      "text/plain": [
       "<Figure size 600x400 with 1 Axes>"
      ],
      "image/png": "[encoded data removed]"
     },
     "metadata": {},
     "output_type": "display_data"
    },
    {
     "data": {
      "text/plain": [
       "<Figure size 1000x600 with 1 Axes>"
      ],
      "image/png": "[encoded data removed]"
     },
     "metadata": {},
     "output_type": "display_data"
    },
    {
     "data": {
      "text/plain": [
       "<Figure size 800x500 with 1 Axes>"
      ],
      "image/png": "[encoded data removed]"
     },
     "metadata": {},
     "output_type": "display_data"
    },
    {
     "data": {
      "text/plain": [
       "<Figure size 800x400 with 1 Axes>"
      ],
      "image/png": "[encoded data removed]"
     },
     "metadata": {},
     "output_type": "display_data"
    }
   ],
   "execution_count": 5
  },
  {
   "metadata": {},
   "cell_type": "markdown",
   "source": [
    "### Modeling\n",
    "\n",
    "To actually be able to use this data for modeling I will need to convert the data to a format that is usable for machine learning. I came to the conclusion that I would need to make groups of moves and the last move will be the target variable. So lets say this is a group: E4, E5, Nf3, Nc6. The target variable would be Nc6 and the input variables would be E4, E5, Nf3. Maybe adding the opening as a feature could be useful as well, but I will start without.\n",
    "For the input I will be using a fixed length of 5 moves to start off, but I will be tuning this later."
   ],
   "id": "483e7f32b92031a"
  },
  {
   "metadata": {
    "ExecuteTime": {
     "end_time": "2025-06-23T15:27:12.447785Z",
     "start_time": "2025-06-23T15:26:42.536067Z"
    }
   },
   "cell_type": "code",
   "source": [
    "def extract_move_sequence_dataset(pgn_path, json_output_path, max_games=10000, min_halfmoves=15, max_halfmoves=200, fixed_input_len=20):\n",
    "    dataset = []\n",
    "    with open(pgn_path, encoding='utf-8') as f:\n",
    "        for game_idx in range(max_games):\n",
    "            game = chess.pgn.read_game(f)\n",
    "            if game is None:\n",
    "                break\n",
    "\n",
    "            board = game.board()\n",
    "            moves = []\n",
    "            for move in game.mainline_moves():\n",
    "                moves.append(board.san(move))\n",
    "                board.push(move)\n",
    "\n",
    "            if len(moves) < min_halfmoves or len(moves) > max_halfmoves:\n",
    "                continue\n",
    "\n",
    "            # Create input and target variable groups\n",
    "            for i in range(fixed_input_len, len(moves)):\n",
    "                input_sequence = moves[i - fixed_input_len:i]\n",
    "                target_move = moves[i]\n",
    "                \n",
    "                dataset.append({\n",
    "                    \"input\": input_sequence,\n",
    "                    \"target\": target_move\n",
    "                })\n",
    "\n",
    "    with open(json_output_path, \"w\", encoding=\"utf-8\") as out_file:\n",
    "        json.dump(dataset, out_file, ensure_ascii=False, indent=2)\n",
    "\n",
    "    print(f\"Done. Saved {len(dataset)} samples to {json_output_path}\")\n",
    "\n",
    "json_output_path = \"../Chess_visualization/data/lichess_move_dataset.json\"\n",
    "extract_move_sequence_dataset(pgn_path, json_output_path, max_games=10000)"
   ],
   "id": "c9cb6c49370fe39f",
   "outputs": [
    {
     "name": "stdout",
     "output_type": "stream",
     "text": [
      "Done. Saved 619257 samples to data/lichess_move_dataset.json\n"
     ]
    }
   ],
   "execution_count": 6
  },
  {
   "metadata": {},
   "cell_type": "markdown",
   "source": "Because models need numbers to train on, I will need to convert the moves to numbers. I will use a dictionary that will map each move to a unique int. This allows me to convert the moves to numbers and back again. So the input will be numbers and the target variables as well, but the output will be the move in SAN notation.",
   "id": "1e51d468e663e7e8"
  },
  {
   "metadata": {
    "ExecuteTime": {
     "end_time": "2025-06-23T15:27:12.504193Z",
     "start_time": "2025-06-23T15:27:12.501722Z"
    }
   },
   "cell_type": "code",
   "source": [
    "def build_vocab(json_path, specials=(\"<PAD>\", \"<UNK>\")):\n",
    "    with open(json_path, encoding=\"utf-8\") as f:\n",
    "        data = json.load(f)\n",
    "\n",
    "    move_counter = Counter()\n",
    "    for sample in data:\n",
    "        move_counter.update(sample[\"input\"])\n",
    "        move_counter.update([sample[\"target\"]])\n",
    "\n",
    "    # Actual chess moves, sorted for reproducibility\n",
    "    moves = sorted(move_counter.keys())\n",
    "\n",
    "    # Prepend special tokens\n",
    "    tokens = list(specials) + moves\n",
    "\n",
    "    vocab = {tok: i for i, tok in enumerate(tokens)}\n",
    "    return vocab"
   ],
   "id": "6f5d22c7387f8808",
   "outputs": [],
   "execution_count": 7
  },
  {
   "metadata": {},
   "cell_type": "markdown",
   "source": [
    "## Model Selection\n",
    "\n",
    "This is a classification problem, where I need to classify the next move based on a sequence of previous moves. For this I think a Long Short-Term Memory(LSTM) model looks like a good initial choice, LSTMs are designed to handle sequential data and can capture patters over time, hopefully like opening structures or tactical motifs."
   ],
   "id": "2b5398375d57ea3b"
  },
  {
   "metadata": {
    "ExecuteTime": {
     "end_time": "2025-06-23T15:27:12.553261Z",
     "start_time": "2025-06-23T15:27:12.550966Z"
    }
   },
   "cell_type": "code",
   "source": [
    "class ChessMoveDataset(Dataset):\n",
    "    def __init__(self, json_path, vocab):\n",
    "        with open(json_path, encoding=\"utf-8\") as f:\n",
    "            self.samples = json.load(f)\n",
    "        self.vocab = vocab\n",
    "\n",
    "    def __len__(self):\n",
    "        return len(self.samples)\n",
    "\n",
    "    def __getitem__(self, idx):\n",
    "        sample = self.samples[idx]\n",
    "        input_ids = [self.vocab[move] for move in sample[\"input\"]]\n",
    "        target_id = self.vocab[sample[\"target\"]]\n",
    "        return torch.tensor(input_ids, dtype=torch.long), torch.tensor(target_id, dtype=torch.long)"
   ],
   "id": "a9afb749c9fb9b7a",
   "outputs": [],
   "execution_count": 8
  },
  {
   "metadata": {
    "ExecuteTime": {
     "end_time": "2025-06-23T15:27:12.604678Z",
     "start_time": "2025-06-23T15:27:12.602040Z"
    }
   },
   "cell_type": "code",
   "source": [
    "class LSTMModel(nn.Module):\n",
    "    def __init__(\n",
    "        self,\n",
    "        vocab_size,\n",
    "        embedding_dim=256,\n",
    "        hidden_dim=512,\n",
    "        num_layers=3,\n",
    "        dropout=0.2,\n",
    "        pad_idx=0\n",
    "    ):\n",
    "\n",
    "        super().__init__()\n",
    "        self.pad_idx   = pad_idx\n",
    "        self.embedding = nn.Embedding(vocab_size, embedding_dim, padding_idx=pad_idx)\n",
    "        self.lstm = nn.LSTM(\n",
    "            input_size=embedding_dim,\n",
    "            hidden_size=hidden_dim,\n",
    "            num_layers=num_layers,\n",
    "            batch_first=True,\n",
    "            dropout=dropout\n",
    "        )\n",
    "        self.fc = nn.Linear(hidden_dim, vocab_size)\n",
    "\n",
    "    def forward(self, x, lengths=None):\n",
    "        emb = self.embedding(x)\n",
    "\n",
    "        if lengths is not None:\n",
    "            packed = pack_padded_sequence(\n",
    "                emb, lengths.cpu(),\n",
    "                batch_first=True, enforce_sorted=False)\n",
    "            _, (h_n, _) = self.lstm(packed)\n",
    "        else:\n",
    "            _, (h_n, _) = self.lstm(emb)\n",
    "\n",
    "        logits = self.fc(h_n[-1])\n",
    "        return logits"
   ],
   "id": "a034e3cae7535990",
   "outputs": [],
   "execution_count": 9
  },
  {
   "metadata": {
    "ExecuteTime": {
     "end_time": "2025-06-23T15:27:12.653980Z",
     "start_time": "2025-06-23T15:27:12.652191Z"
    }
   },
   "cell_type": "code",
   "source": [
    "def collate(batch, pad_idx):\n",
    "    \"\"\"batch = list[(LongTensor seq, LongTensor target)]\"\"\"\n",
    "    seqs, targets = zip(*batch)\n",
    "    lengths = torch.tensor([len(s) for s in seqs])\n",
    "\n",
    "    # left-pad or right-pad—here we right-pad\n",
    "    seqs_padded = pad_sequence(seqs, batch_first=True,\n",
    "                               padding_value=pad_idx)\n",
    "\n",
    "    return seqs_padded, lengths, torch.tensor(targets)"
   ],
   "id": "9757ff2bd07cc043",
   "outputs": [],
   "execution_count": 10
  },
  {
   "metadata": {
    "ExecuteTime": {
     "end_time": "2025-06-23T15:27:12.704559Z",
     "start_time": "2025-06-23T15:27:12.701851Z"
    }
   },
   "cell_type": "code",
   "source": [
    "def evaluate_model(model, loader, device):\n",
    "    model.eval()\n",
    "    loss_fn = torch.nn.CrossEntropyLoss()\n",
    "    total_loss = corr1 = corr3 = corr5 = n = 0\n",
    "\n",
    "    with torch.no_grad():\n",
    "        for x, lengths, y in loader:\n",
    "            x, lengths, y = x.to(device, non_blocking=True), lengths.to(device), y.to(device, non_blocking=True)\n",
    "            logits = model(x, lengths)\n",
    "            loss   = loss_fn(logits, y)\n",
    "            total_loss += loss.item()\n",
    "\n",
    "            topk = logits.topk(5, dim=1).indices      # (B,5)\n",
    "            eq   = topk.eq(y.unsqueeze(1))\n",
    "            corr1 += eq[:, :1].sum().item()\n",
    "            corr3 += eq[:, :3].sum().item()\n",
    "            corr5 += eq.sum().item()\n",
    "            n     += y.size(0)\n",
    "\n",
    "    return total_loss/len(loader), corr1/n, corr3/n, corr5/n\n"
   ],
   "id": "a6058ee4bbd0001c",
   "outputs": [],
   "execution_count": 11
  },
  {
   "metadata": {
    "ExecuteTime": {
     "end_time": "2025-06-23T15:27:12.757773Z",
     "start_time": "2025-06-23T15:27:12.753449Z"
    }
   },
   "cell_type": "code",
   "source": [
    "def train_model(model, train_loader, test_loader,\n",
    "                epochs=20, patience=3, save_best_path=None,\n",
    "                base_lr=0.001 * math.sqrt( 16384 / 1024 ), use_amp=True):\n",
    "    device = torch.device(\"cuda\" if torch.cuda.is_available() else \"cpu\")\n",
    "    print(\"Using device:\", device)\n",
    "\n",
    "    model.to(device)\n",
    "    optimizer = torch.optim.Adam(model.parameters(), lr=base_lr)\n",
    "    scaler    = GradScaler(enabled=use_amp)\n",
    "    loss_fn   = torch.nn.CrossEntropyLoss()\n",
    "\n",
    "    history, best_loss, no_improve = {}, float(\"inf\"), 0\n",
    "    for k in [\"train_loss\", \"test_loss\",\n",
    "              \"test_acc\", \"test_acc_top3\", \"test_acc_top5\"]:\n",
    "        history[k] = []\n",
    "\n",
    "    for epoch in range(epochs):\n",
    "        # -------- train --------\n",
    "        model.train()\n",
    "        running = 0.0\n",
    "        for x, lengths, y in tqdm(train_loader, desc=f\"Epoch {epoch+1}/{epochs}\"):\n",
    "            x, lengths, y = (\n",
    "                x.to(device, non_blocking=True),\n",
    "                lengths.to(device, non_blocking=True),\n",
    "                y.to(device, non_blocking=True)\n",
    "            )\n",
    "\n",
    "            optimizer.zero_grad(set_to_none=True)\n",
    "            with autocast(device_type=\"cuda\", enabled=use_amp):\n",
    "                logits = model(x)\n",
    "                loss   = loss_fn(logits, y)\n",
    "\n",
    "            scaler.scale(loss).backward()\n",
    "            scaler.step(optimizer)\n",
    "            scaler.update()\n",
    "\n",
    "            running += loss.item()\n",
    "\n",
    "        avg_train = running / len(train_loader)\n",
    "\n",
    "        # -------- eval ---------\n",
    "        test_loss, a1, a3, a5 = evaluate_model(model, test_loader, device)\n",
    "        history[\"train_loss\"].append(avg_train)\n",
    "        history[\"test_loss\"].append(test_loss)\n",
    "        history[\"test_acc\"].append(a1)\n",
    "        history[\"test_acc_top3\"].append(a3)\n",
    "        history[\"test_acc_top5\"].append(a5)\n",
    "\n",
    "        print(f\"Epoch {epoch+1}: \"\n",
    "              f\"Train {avg_train:.4f} | Test {test_loss:.4f} \"\n",
    "              f\"| Top-1 {a1:.2%} Top-3 {a3:.2%} Top-5 {a5:.2%}\")\n",
    "\n",
    "        # -------- early stop ---\n",
    "        if test_loss < best_loss:\n",
    "            best_loss, no_improve = test_loss, 0\n",
    "            if save_best_path:\n",
    "                torch.save(model.state_dict(), save_best_path)\n",
    "        else:\n",
    "            no_improve += 1\n",
    "            if no_improve >= patience:\n",
    "                print(f\"Early stopping (no improvement {patience} epochs)\")\n",
    "                break\n",
    "\n",
    "    return history"
   ],
   "id": "14a4579ed6276385",
   "outputs": [],
   "execution_count": 12
  },
  {
   "metadata": {
    "ExecuteTime": {
     "end_time": "2025-06-23T15:32:03.375257Z",
     "start_time": "2025-06-23T15:27:12.805232Z"
    }
   },
   "cell_type": "code",
   "source": [
    "json_path = \"../Chess_visualization/data/lichess_move_dataset.json\"\n",
    "vocab = build_vocab(json_path)\n",
    "dataset = ChessMoveDataset(json_path, vocab)\n",
    "\n",
    "train_idx, test_idx = train_test_split(list(range(len(dataset))), test_size=0.2, random_state=42)\n",
    "train_dataset = Subset(dataset, train_idx)\n",
    "test_dataset = Subset(dataset, test_idx)\n",
    "pad_idx = vocab[\"<PAD>\"]\n",
    "collate_fn = partial(collate, pad_idx=pad_idx)\n",
    "\n",
    "train_loader = DataLoader(\n",
    "    train_dataset,\n",
    "    batch_size=16384,\n",
    "    shuffle=True,\n",
    "    num_workers=12,\n",
    "    pin_memory=True,\n",
    "    collate_fn=collate_fn\n",
    ")\n",
    "\n",
    "test_loader = DataLoader(\n",
    "    test_dataset,\n",
    "    batch_size=16384,\n",
    "    num_workers=12,\n",
    "    pin_memory=True,\n",
    "    collate_fn=collate_fn\n",
    ")\n",
    "\n",
    "model = LSTMModel(vocab_size=len(vocab))\n",
    "history = train_model(\n",
    "    model,\n",
    "    train_loader,\n",
    "    test_loader,\n",
    "    epochs=100,\n",
    "    patience=5,\n",
    "    save_best_path=\"../Chess_visualization/models/lstm.pt\"\n",
    ")\n",
    "\n",
    "# Plot results\n",
    "plt.figure(figsize=(12, 5))\n",
    "plt.subplot(1, 2, 1)\n",
    "plt.plot(history[\"train_loss\"], label=\"Train Loss\")\n",
    "plt.plot(history[\"test_loss\"], label=\"Test Loss\")\n",
    "plt.xlabel(\"Epoch\")\n",
    "plt.ylabel(\"Loss\")\n",
    "plt.title(\"Loss Over Epochs\")\n",
    "plt.legend()\n",
    "\n",
    "plt.subplot(1, 2, 2)\n",
    "plt.plot(history[\"test_acc\"], label=\"Top-1 Accuracy\", color='green')\n",
    "plt.plot(history[\"test_acc_top3\"], label=\"Top-3 Accuracy\", color='orange')\n",
    "plt.plot(history[\"test_acc_top5\"], label=\"Top-5 Accuracy\", color='blue')\n",
    "plt.xlabel(\"Epoch\")\n",
    "plt.ylabel(\"Accuracy\")\n",
    "plt.title(\"Accuracy Over Epochs\")\n",
    "plt.legend()"
   ],
   "id": "c4b6ac6c7b8a8c0c",
   "outputs": [
    {
     "name": "stdout",
     "output_type": "stream",
     "text": [
      "Using device: cuda\n"
     ]
    },
    {
     "name": "stderr",
     "output_type": "stream",
     "text": [
      "Epoch 1/100: 100%|██████████| 31/31 [00:07<00:00,  4.39it/s]\n"
     ]
    },
    {
     "name": "stdout",
     "output_type": "stream",
     "text": [
      "Epoch 1: Train 6.7428 | Test 6.6074 | Top-1 0.67% Top-3 2.05% Top-5 3.39%\n"
     ]
    },
    {
     "name": "stderr",
     "output_type": "stream",
     "text": [
      "Epoch 2/100: 100%|██████████| 31/31 [00:06<00:00,  4.49it/s]\n"
     ]
    },
    {
     "name": "stdout",
     "output_type": "stream",
     "text": [
      "Epoch 2: Train 6.5914 | Test 6.5431 | Top-1 0.87% Top-3 2.56% Top-5 3.93%\n"
     ]
    },
    {
     "name": "stderr",
     "output_type": "stream",
     "text": [
      "Epoch 3/100: 100%|██████████| 31/31 [00:06<00:00,  4.70it/s]\n"
     ]
    },
    {
     "name": "stdout",
     "output_type": "stream",
     "text": [
      "Epoch 3: Train 6.4512 | Test 6.4031 | Top-1 1.14% Top-3 2.77% Top-5 4.29%\n"
     ]
    },
    {
     "name": "stderr",
     "output_type": "stream",
     "text": [
      "Epoch 4/100: 100%|██████████| 31/31 [00:06<00:00,  4.65it/s]\n"
     ]
    },
    {
     "name": "stdout",
     "output_type": "stream",
     "text": [
      "Epoch 4: Train 6.3733 | Test 6.3675 | Top-1 1.24% Top-3 2.87% Top-5 4.57%\n"
     ]
    },
    {
     "name": "stderr",
     "output_type": "stream",
     "text": [
      "Epoch 5/100: 100%|██████████| 31/31 [00:06<00:00,  4.55it/s]\n"
     ]
    },
    {
     "name": "stdout",
     "output_type": "stream",
     "text": [
      "Epoch 5: Train 6.3470 | Test 6.3509 | Top-1 1.24% Top-3 3.08% Top-5 4.75%\n"
     ]
    },
    {
     "name": "stderr",
     "output_type": "stream",
     "text": [
      "Epoch 6/100: 100%|██████████| 31/31 [00:06<00:00,  4.66it/s]\n"
     ]
    },
    {
     "name": "stdout",
     "output_type": "stream",
     "text": [
      "Epoch 6: Train 6.3264 | Test 6.3261 | Top-1 1.33% Top-3 3.20% Top-5 4.97%\n"
     ]
    },
    {
     "name": "stderr",
     "output_type": "stream",
     "text": [
      "Epoch 7/100: 100%|██████████| 31/31 [00:06<00:00,  4.53it/s]\n"
     ]
    },
    {
     "name": "stdout",
     "output_type": "stream",
     "text": [
      "Epoch 7: Train 6.2969 | Test 6.2996 | Top-1 1.34% Top-3 3.40% Top-5 5.25%\n"
     ]
    },
    {
     "name": "stderr",
     "output_type": "stream",
     "text": [
      "Epoch 8/100: 100%|██████████| 31/31 [00:06<00:00,  4.76it/s]\n"
     ]
    },
    {
     "name": "stdout",
     "output_type": "stream",
     "text": [
      "Epoch 8: Train 6.2618 | Test 6.2635 | Top-1 1.42% Top-3 3.52% Top-5 5.49%\n"
     ]
    },
    {
     "name": "stderr",
     "output_type": "stream",
     "text": [
      "Epoch 9/100: 100%|██████████| 31/31 [00:06<00:00,  4.85it/s]\n"
     ]
    },
    {
     "name": "stdout",
     "output_type": "stream",
     "text": [
      "Epoch 9: Train 6.2123 | Test 6.1886 | Top-1 1.57% Top-3 4.14% Top-5 6.45%\n"
     ]
    },
    {
     "name": "stderr",
     "output_type": "stream",
     "text": [
      "Epoch 10/100: 100%|██████████| 31/31 [00:06<00:00,  4.65it/s]\n"
     ]
    },
    {
     "name": "stdout",
     "output_type": "stream",
     "text": [
      "Epoch 10: Train 6.0953 | Test 6.0354 | Top-1 1.92% Top-3 5.08% Top-5 8.01%\n"
     ]
    },
    {
     "name": "stderr",
     "output_type": "stream",
     "text": [
      "Epoch 11/100: 100%|██████████| 31/31 [00:06<00:00,  4.78it/s]\n"
     ]
    },
    {
     "name": "stdout",
     "output_type": "stream",
     "text": [
      "Epoch 11: Train 5.9573 | Test 5.9275 | Top-1 2.31% Top-3 6.00% Top-5 9.19%\n"
     ]
    },
    {
     "name": "stderr",
     "output_type": "stream",
     "text": [
      "Epoch 12/100: 100%|██████████| 31/31 [00:06<00:00,  4.62it/s]\n"
     ]
    },
    {
     "name": "stdout",
     "output_type": "stream",
     "text": [
      "Epoch 12: Train 5.8608 | Test 5.8529 | Top-1 2.55% Top-3 6.63% Top-5 10.24%\n"
     ]
    },
    {
     "name": "stderr",
     "output_type": "stream",
     "text": [
      "Epoch 13/100: 100%|██████████| 31/31 [00:06<00:00,  4.71it/s]\n"
     ]
    },
    {
     "name": "stdout",
     "output_type": "stream",
     "text": [
      "Epoch 13: Train 5.7764 | Test 5.7743 | Top-1 2.87% Top-3 7.37% Top-5 11.09%\n"
     ]
    },
    {
     "name": "stderr",
     "output_type": "stream",
     "text": [
      "Epoch 14/100: 100%|██████████| 31/31 [00:06<00:00,  4.67it/s]\n"
     ]
    },
    {
     "name": "stdout",
     "output_type": "stream",
     "text": [
      "Epoch 14: Train 5.6939 | Test 5.7145 | Top-1 3.06% Top-3 7.95% Top-5 11.97%\n"
     ]
    },
    {
     "name": "stderr",
     "output_type": "stream",
     "text": [
      "Epoch 15/100: 100%|██████████| 31/31 [00:06<00:00,  4.53it/s]\n"
     ]
    },
    {
     "name": "stdout",
     "output_type": "stream",
     "text": [
      "Epoch 15: Train 5.6155 | Test 5.6434 | Top-1 3.64% Top-3 8.91% Top-5 13.21%\n"
     ]
    },
    {
     "name": "stderr",
     "output_type": "stream",
     "text": [
      "Epoch 16/100: 100%|██████████| 31/31 [00:06<00:00,  4.57it/s]\n"
     ]
    },
    {
     "name": "stdout",
     "output_type": "stream",
     "text": [
      "Epoch 16: Train 5.5455 | Test 5.5819 | Top-1 3.98% Top-3 9.59% Top-5 14.02%\n"
     ]
    },
    {
     "name": "stderr",
     "output_type": "stream",
     "text": [
      "Epoch 17/100: 100%|██████████| 31/31 [00:06<00:00,  4.71it/s]\n"
     ]
    },
    {
     "name": "stdout",
     "output_type": "stream",
     "text": [
      "Epoch 17: Train 5.4782 | Test 5.5318 | Top-1 4.41% Top-3 10.30% Top-5 15.01%\n"
     ]
    },
    {
     "name": "stderr",
     "output_type": "stream",
     "text": [
      "Epoch 18/100: 100%|██████████| 31/31 [00:07<00:00,  4.35it/s]\n"
     ]
    },
    {
     "name": "stdout",
     "output_type": "stream",
     "text": [
      "Epoch 18: Train 5.4089 | Test 5.4854 | Top-1 4.68% Top-3 10.90% Top-5 15.72%\n"
     ]
    },
    {
     "name": "stderr",
     "output_type": "stream",
     "text": [
      "Epoch 19/100: 100%|██████████| 31/31 [00:06<00:00,  4.59it/s]\n"
     ]
    },
    {
     "name": "stdout",
     "output_type": "stream",
     "text": [
      "Epoch 19: Train 5.3419 | Test 5.4330 | Top-1 5.16% Top-3 11.93% Top-5 17.09%\n"
     ]
    },
    {
     "name": "stderr",
     "output_type": "stream",
     "text": [
      "Epoch 20/100: 100%|██████████| 31/31 [00:06<00:00,  4.79it/s]\n"
     ]
    },
    {
     "name": "stdout",
     "output_type": "stream",
     "text": [
      "Epoch 20: Train 5.2727 | Test 5.3954 | Top-1 5.57% Top-3 12.51% Top-5 17.63%\n"
     ]
    },
    {
     "name": "stderr",
     "output_type": "stream",
     "text": [
      "Epoch 21/100: 100%|██████████| 31/31 [00:06<00:00,  4.76it/s]\n"
     ]
    },
    {
     "name": "stdout",
     "output_type": "stream",
     "text": [
      "Epoch 21: Train 5.2049 | Test 5.3436 | Top-1 6.03% Top-3 13.47% Top-5 18.71%\n"
     ]
    },
    {
     "name": "stderr",
     "output_type": "stream",
     "text": [
      "Epoch 22/100: 100%|██████████| 31/31 [00:06<00:00,  4.67it/s]\n"
     ]
    },
    {
     "name": "stdout",
     "output_type": "stream",
     "text": [
      "Epoch 22: Train 5.1371 | Test 5.3121 | Top-1 6.42% Top-3 13.92% Top-5 19.18%\n"
     ]
    },
    {
     "name": "stderr",
     "output_type": "stream",
     "text": [
      "Epoch 23/100: 100%|██████████| 31/31 [00:06<00:00,  4.63it/s]\n"
     ]
    },
    {
     "name": "stdout",
     "output_type": "stream",
     "text": [
      "Epoch 23: Train 5.0780 | Test 5.2912 | Top-1 6.65% Top-3 14.43% Top-5 19.81%\n"
     ]
    },
    {
     "name": "stderr",
     "output_type": "stream",
     "text": [
      "Epoch 24/100: 100%|██████████| 31/31 [00:06<00:00,  4.61it/s]\n"
     ]
    },
    {
     "name": "stdout",
     "output_type": "stream",
     "text": [
      "Epoch 24: Train 5.0181 | Test 5.2623 | Top-1 6.97% Top-3 14.85% Top-5 20.19%\n"
     ]
    },
    {
     "name": "stderr",
     "output_type": "stream",
     "text": [
      "Epoch 25/100: 100%|██████████| 31/31 [00:06<00:00,  4.51it/s]\n"
     ]
    },
    {
     "name": "stdout",
     "output_type": "stream",
     "text": [
      "Epoch 25: Train 4.9552 | Test 5.2586 | Top-1 7.19% Top-3 15.19% Top-5 20.55%\n"
     ]
    },
    {
     "name": "stderr",
     "output_type": "stream",
     "text": [
      "Epoch 26/100: 100%|██████████| 31/31 [00:06<00:00,  4.63it/s]\n"
     ]
    },
    {
     "name": "stdout",
     "output_type": "stream",
     "text": [
      "Epoch 26: Train 4.8990 | Test 5.2382 | Top-1 7.46% Top-3 15.70% Top-5 20.98%\n"
     ]
    },
    {
     "name": "stderr",
     "output_type": "stream",
     "text": [
      "Epoch 27/100: 100%|██████████| 31/31 [00:06<00:00,  4.76it/s]\n"
     ]
    },
    {
     "name": "stdout",
     "output_type": "stream",
     "text": [
      "Epoch 27: Train 4.8395 | Test 5.2240 | Top-1 7.58% Top-3 15.96% Top-5 21.36%\n"
     ]
    },
    {
     "name": "stderr",
     "output_type": "stream",
     "text": [
      "Epoch 28/100: 100%|██████████| 31/31 [00:06<00:00,  4.80it/s]\n"
     ]
    },
    {
     "name": "stdout",
     "output_type": "stream",
     "text": [
      "Epoch 28: Train 4.7800 | Test 5.2282 | Top-1 7.74% Top-3 16.05% Top-5 21.55%\n"
     ]
    },
    {
     "name": "stderr",
     "output_type": "stream",
     "text": [
      "Epoch 29/100: 100%|██████████| 31/31 [00:06<00:00,  4.73it/s]\n"
     ]
    },
    {
     "name": "stdout",
     "output_type": "stream",
     "text": [
      "Epoch 29: Train 4.7220 | Test 5.2276 | Top-1 7.80% Top-3 16.11% Top-5 21.46%\n"
     ]
    },
    {
     "name": "stderr",
     "output_type": "stream",
     "text": [
      "Epoch 30/100: 100%|██████████| 31/31 [00:06<00:00,  4.64it/s]\n"
     ]
    },
    {
     "name": "stdout",
     "output_type": "stream",
     "text": [
      "Epoch 30: Train 4.6656 | Test 5.2183 | Top-1 8.00% Top-3 16.49% Top-5 21.97%\n"
     ]
    },
    {
     "name": "stderr",
     "output_type": "stream",
     "text": [
      "Epoch 31/100: 100%|██████████| 31/31 [00:06<00:00,  4.61it/s]\n"
     ]
    },
    {
     "name": "stdout",
     "output_type": "stream",
     "text": [
      "Epoch 31: Train 4.6006 | Test 5.2223 | Top-1 8.18% Top-3 16.78% Top-5 22.22%\n"
     ]
    },
    {
     "name": "stderr",
     "output_type": "stream",
     "text": [
      "Epoch 32/100: 100%|██████████| 31/31 [00:06<00:00,  4.60it/s]\n"
     ]
    },
    {
     "name": "stdout",
     "output_type": "stream",
     "text": [
      "Epoch 32: Train 4.5393 | Test 5.2317 | Top-1 8.18% Top-3 16.79% Top-5 22.23%\n"
     ]
    },
    {
     "name": "stderr",
     "output_type": "stream",
     "text": [
      "Epoch 33/100: 100%|██████████| 31/31 [00:06<00:00,  4.66it/s]\n"
     ]
    },
    {
     "name": "stdout",
     "output_type": "stream",
     "text": [
      "Epoch 33: Train 4.4756 | Test 5.2514 | Top-1 8.27% Top-3 16.90% Top-5 22.38%\n"
     ]
    },
    {
     "name": "stderr",
     "output_type": "stream",
     "text": [
      "Epoch 34/100: 100%|██████████| 31/31 [00:06<00:00,  4.62it/s]\n"
     ]
    },
    {
     "name": "stdout",
     "output_type": "stream",
     "text": [
      "Epoch 34: Train 4.4183 | Test 5.2550 | Top-1 8.27% Top-3 16.97% Top-5 22.30%\n"
     ]
    },
    {
     "name": "stderr",
     "output_type": "stream",
     "text": [
      "Epoch 35/100: 100%|██████████| 31/31 [00:06<00:00,  4.52it/s]\n"
     ]
    },
    {
     "name": "stdout",
     "output_type": "stream",
     "text": [
      "Epoch 35: Train 4.3519 | Test 5.2901 | Top-1 8.29% Top-3 16.95% Top-5 22.44%\n",
      "Early stopping (no improvement 5 epochs)\n"
     ]
    },
    {
     "data": {
      "text/plain": [
       "<matplotlib.legend.Legend at 0x761ed1a1a650>"
      ]
     },
     "execution_count": 13,
     "metadata": {},
     "output_type": "execute_result"
    },
    {
     "data": {
      "text/plain": [
       "<Figure size 1200x500 with 2 Axes>"
      ],
      "image/png": "[encoded data removed]"
     },
     "metadata": {},
     "output_type": "display_data"
    }
   ],
   "execution_count": 13
  },
  {
   "metadata": {},
   "cell_type": "markdown",
   "source": [
    "### combining models\n",
    "\n",
    "The LSTM model is a good start, but I want to try combining it with my other CNN + MLP model. This way it also learns the position itself and the moves at the same time."
   ],
   "id": "543922da79ef85d2"
  },
  {
   "metadata": {
    "ExecuteTime": {
     "end_time": "2025-06-23T15:32:03.397984Z",
     "start_time": "2025-06-23T15:32:03.392173Z"
    }
   },
   "cell_type": "code",
   "source": [
    "PIECE_VALUES = {\n",
    "    'P': 1, 'N': 3, 'B': 3, 'R': 5, 'Q': 9, 'K': 0,\n",
    "    'p': -1, 'n': -3, 'b': -3, 'r': -5, 'q': -9, 'k': 0\n",
    "}\n",
    "\n",
    "def extract_manual_features(board):\n",
    "    material = sum(PIECE_VALUES.get(piece.symbol(), 0) for piece in board.piece_map().values())\n",
    "\n",
    "    activity = (\n",
    "        sum(len(board.attacks(sq)) for sq in board.pieces(chess.PAWN, chess.WHITE)) -\n",
    "        sum(len(board.attacks(sq)) for sq in board.pieces(chess.PAWN, chess.BLACK))\n",
    "    )\n",
    "\n",
    "    center = (\n",
    "        sum(1 for sq in [chess.D4, chess.D5, chess.E4, chess.E5] if board.is_attacked_by(chess.WHITE, sq)) -\n",
    "        sum(1 for sq in [chess.D4, chess.D5, chess.E4, chess.E5] if board.is_attacked_by(chess.BLACK, sq))\n",
    "    )\n",
    "\n",
    "    legal_moves = len(list(board.legal_moves))\n",
    "    turn = 1 if board.turn == chess.WHITE else -1\n",
    "\n",
    "    development = (\n",
    "        sum(1 for sq in [chess.B1, chess.G1, chess.C1, chess.F1] if board.piece_at(sq) is None) -\n",
    "        sum(1 for sq in [chess.B8, chess.G8, chess.C8, chess.F8] if board.piece_at(sq) is None)\n",
    "    )\n",
    "\n",
    "    try:\n",
    "        king_safety = (\n",
    "            len(board.attackers(chess.BLACK, board.king(chess.WHITE))) -\n",
    "            len(board.attackers(chess.WHITE, board.king(chess.BLACK)))\n",
    "        )\n",
    "    except:\n",
    "        king_safety = 0  # fallback if a king is missing\n",
    "\n",
    "    pawn_files_white = {chess.square_file(sq) for sq in board.pieces(chess.PAWN, chess.WHITE)}\n",
    "    pawn_files_black = {chess.square_file(sq) for sq in board.pieces(chess.PAWN, chess.BLACK)}\n",
    "    open_files = sum(1 for f in range(8) if f not in pawn_files_white and f not in pawn_files_black)\n",
    "\n",
    "    return torch.tensor([\n",
    "        material, activity, center, legal_moves,\n",
    "        turn, development, king_safety, open_files\n",
    "    ], dtype=torch.float32)\n",
    "\n",
    "\n",
    "piece_to_index = {\n",
    "    'P': 0, 'N': 1, 'B': 2, 'R': 3, 'Q': 4, 'K': 5,\n",
    "    'p': 6, 'n': 7, 'b': 8, 'r': 9, 'q': 10, 'k': 11\n",
    "}\n",
    "\n",
    "def board_to_tensor(board):\n",
    "    tensor = np.zeros((12, 8, 8), dtype=np.float32)\n",
    "    for square, piece in board.piece_map().items():\n",
    "        row = 7 - (square // 8)   # flip row index: 0 at bottom\n",
    "        col = square % 8\n",
    "        idx = piece_to_index[piece.symbol()]\n",
    "        tensor[idx, row, col] = 1\n",
    "    return torch.tensor(tensor)   # return a Tensor directly\n",
    "\n",
    "def moves_to_board(move_seq):\n",
    "    board = chess.Board()\n",
    "    for san in move_seq:\n",
    "        try:\n",
    "            move = board.parse_san(san)\n",
    "            board.push(move)\n",
    "        except:\n",
    "            break  # skip illegal/invalid sequences gracefully\n",
    "    return board\n"
   ],
   "id": "9b9e0343920b299a",
   "outputs": [],
   "execution_count": 14
  },
  {
   "metadata": {
    "ExecuteTime": {
     "end_time": "2025-06-23T15:32:03.447742Z",
     "start_time": "2025-06-23T15:32:03.444982Z"
    }
   },
   "cell_type": "code",
   "source": [
    "class ChessMoveDatasetCombined(Dataset):\n",
    "    def __init__(self, json_path, vocab):\n",
    "        self.vocab = vocab\n",
    "        with open(json_path, encoding='utf-8') as f:\n",
    "            self.samples = json.load(f)\n",
    "\n",
    "    def __getitem__(self, idx):\n",
    "        sample = self.samples[idx]\n",
    "        move_seq = sample[\"input\"]\n",
    "        target_move = sample[\"target\"]\n",
    "\n",
    "        # Encode sequence\n",
    "        move_tensor = torch.tensor([self.vocab.get(m, self.vocab[\"<UNK>\"]) for m in move_seq])\n",
    "        target_idx = self.vocab.get(target_move, self.vocab[\"<UNK>\"])\n",
    "        length = len(move_tensor)\n",
    "\n",
    "        # Reconstruct board\n",
    "        board = moves_to_board(move_seq)  # ← use python-chess\n",
    "        board_tensor = board_to_tensor(board)\n",
    "        manual_features = extract_manual_features(board)\n",
    "\n",
    "        return move_tensor, length, board_tensor, manual_features, target_idx\n",
    "\n",
    "    def __len__(self):\n",
    "        return len(self.samples)\n"
   ],
   "id": "f1afa1c858271816",
   "outputs": [],
   "execution_count": 15
  },
  {
   "metadata": {
    "ExecuteTime": {
     "end_time": "2025-06-23T15:32:03.502258Z",
     "start_time": "2025-06-23T15:32:03.499228Z"
    }
   },
   "cell_type": "code",
   "source": [
    "def evaluate_combined_model(model, loader, device):\n",
    "    model.eval()\n",
    "    loss_fn = torch.nn.CrossEntropyLoss()\n",
    "    total_loss = corr1 = corr3 = corr5 = n = 0\n",
    "\n",
    "    with torch.no_grad():\n",
    "        for x, lengths, board_tensor, manual_feats, y in loader:\n",
    "            x, lengths, board_tensor, manual_feats, y = (\n",
    "                x.to(device, non_blocking=True),\n",
    "                lengths.to(device),\n",
    "                board_tensor.to(device),\n",
    "                manual_feats.to(device),\n",
    "                y.to(device, non_blocking=True)\n",
    "            )\n",
    "\n",
    "            logits = model(x, lengths, board_tensor, manual_feats)\n",
    "            loss   = loss_fn(logits, y)\n",
    "            total_loss += loss.item()\n",
    "\n",
    "            topk = logits.topk(5, dim=1).indices\n",
    "            eq   = topk.eq(y.unsqueeze(1))\n",
    "            corr1 += eq[:, :1].sum().item()\n",
    "            corr3 += eq[:, :3].sum().item()\n",
    "            corr5 += eq.sum().item()\n",
    "            n     += y.size(0)\n",
    "\n",
    "    return total_loss / len(loader), corr1 / n, corr3 / n, corr5 / n"
   ],
   "id": "2763bba2413e6c56",
   "outputs": [],
   "execution_count": 16
  },
  {
   "metadata": {
    "ExecuteTime": {
     "end_time": "2025-06-23T15:32:03.556661Z",
     "start_time": "2025-06-23T15:32:03.553563Z"
    }
   },
   "cell_type": "code",
   "source": [
    "def collateCombined(batch, pad_idx):\n",
    "    # Unpack all 5 fields from each item in the batch\n",
    "    move_seqs, lengths, boards, features, targets = zip(*batch)\n",
    "\n",
    "    # Pad move sequences to max length in batch\n",
    "    move_seqs_padded = pad_sequence(move_seqs, batch_first=True, padding_value=pad_idx)\n",
    "    lengths = torch.tensor(lengths, dtype=torch.long)\n",
    "    boards = torch.stack(boards)             # (B, 12, 8, 8)\n",
    "    features = torch.stack(features)         # (B, 8)\n",
    "    targets = torch.tensor(targets, dtype=torch.long)\n",
    "\n",
    "    return move_seqs_padded, lengths, boards, features, targets\n"
   ],
   "id": "45221c9aab046eaf",
   "outputs": [],
   "execution_count": 17
  },
  {
   "metadata": {
    "ExecuteTime": {
     "end_time": "2025-06-23T15:32:03.612157Z",
     "start_time": "2025-06-23T15:32:03.607088Z"
    }
   },
   "cell_type": "code",
   "source": [
    "def train_combined_model(model, train_loader, test_loader,\n",
    "                epochs=20, patience=3, save_best_path=None,\n",
    "                base_lr=0.001 * math.sqrt( 16384 / 1024 ), use_amp=True):\n",
    "    device = torch.device(\"cuda\" if torch.cuda.is_available() else \"cpu\")\n",
    "    print(\"Using device:\", device)\n",
    "\n",
    "    model.to(device)\n",
    "    optimizer = torch.optim.Adam(model.parameters(), lr=base_lr)\n",
    "    scaler    = GradScaler(enabled=use_amp)\n",
    "    loss_fn   = torch.nn.CrossEntropyLoss()\n",
    "\n",
    "    history, best_loss, no_improve = {}, float(\"inf\"), 0\n",
    "    for k in [\"train_loss\", \"test_loss\",\n",
    "              \"test_acc\", \"test_acc_top3\", \"test_acc_top5\"]:\n",
    "        history[k] = []\n",
    "\n",
    "    for epoch in range(epochs):\n",
    "        # -------- train --------\n",
    "        model.train()\n",
    "        running = 0.0\n",
    "        for move_seq, lengths, board_tensor, manual_feats, target in train_loader:\n",
    "            move_seq     = move_seq.to(device)\n",
    "            lengths      = lengths.to(device)\n",
    "            board_tensor = board_tensor.to(device)\n",
    "            manual_feats = manual_feats.to(device)\n",
    "            target       = target.to(device)\n",
    "\n",
    "            with autocast(\"cuda\", enabled=use_amp):\n",
    "                logits = model(move_seq, lengths, board_tensor, manual_feats)\n",
    "                loss   = loss_fn(logits, target\n",
    "        )\n",
    "\n",
    "            optimizer.zero_grad(set_to_none=True)\n",
    "            with autocast(device_type=\"cuda\", enabled=use_amp):\n",
    "                logits = model(move_seq, lengths, board_tensor, manual_feats)\n",
    "                loss   = loss_fn(logits, target)\n",
    "\n",
    "            scaler.scale(loss).backward()\n",
    "            scaler.step(optimizer)\n",
    "            scaler.update()\n",
    "\n",
    "            running += loss.item()\n",
    "\n",
    "        avg_train = running / len(train_loader)\n",
    "\n",
    "        # -------- eval ---------\n",
    "        test_loss, acc1, acc3, acc5 = evaluate_combined_model(model, test_loader, device)\n",
    "        history[\"train_loss\"].append(avg_train)\n",
    "        history[\"test_loss\"].append(test_loss)\n",
    "        history[\"test_acc\"].append(acc1)\n",
    "        history[\"test_acc_top3\"].append(acc3)\n",
    "        history[\"test_acc_top5\"].append(acc5)\n",
    "\n",
    "        print(f\"Epoch {epoch+1}: \"\n",
    "              f\"Train {avg_train:.4f} | Test {test_loss:.4f} \"\n",
    "              f\"| Top-1 {acc1:.2%} Top-3 {acc3:.2%} Top-5 {acc5:.2%}\")\n",
    "\n",
    "\n",
    "        # -------- early stop ---\n",
    "        if test_loss < best_loss:\n",
    "            best_loss, no_improve = test_loss, 0\n",
    "            if save_best_path:\n",
    "                torch.save(model.state_dict(), save_best_path)\n",
    "        else:\n",
    "            no_improve += 1\n",
    "            if no_improve >= patience:\n",
    "                print(f\"Early stopping (no improvement {patience} epochs)\")\n",
    "                break\n",
    "\n",
    "    return history"
   ],
   "id": "d0cfa71508e342ee",
   "outputs": [],
   "execution_count": 18
  },
  {
   "metadata": {
    "ExecuteTime": {
     "end_time": "2025-06-23T15:32:03.663994Z",
     "start_time": "2025-06-23T15:32:03.661339Z"
    }
   },
   "cell_type": "code",
   "source": [
    "class CNN_MLP_FeatureExtractor(nn.Module):\n",
    "    def __init__(self):\n",
    "        super().__init__()\n",
    "\n",
    "        self.cnn = nn.Sequential(\n",
    "            nn.Conv2d(12, 64, kernel_size=3, padding=1), nn.ReLU(),\n",
    "            nn.Conv2d(64, 128, kernel_size=3, padding=1), nn.ReLU(),\n",
    "            nn.Conv2d(128, 128, kernel_size=3, padding=1), nn.ReLU(),\n",
    "            nn.Flatten()\n",
    "        )\n",
    "\n",
    "        self.mlp = nn.Sequential(\n",
    "            nn.Linear(8, 128), nn.ReLU(),\n",
    "            nn.Linear(128, 128), nn.ReLU()\n",
    "        )\n",
    "\n",
    "    def forward(self, x_image, x_manual):\n",
    "        x_cnn = self.cnn(x_image)          # (B, 8192)\n",
    "        x_mlp = self.mlp(x_manual)         # (B, 128)\n",
    "        return torch.cat((x_cnn, x_mlp), dim=1)  # (B, 8320)\n"
   ],
   "id": "271d45dcc92321a4",
   "outputs": [],
   "execution_count": 19
  },
  {
   "metadata": {
    "ExecuteTime": {
     "end_time": "2025-06-23T15:32:03.715702Z",
     "start_time": "2025-06-23T15:32:03.712753Z"
    }
   },
   "cell_type": "code",
   "source": [
    "class LSTMPlusPositionModel(nn.Module):\n",
    "    def __init__(self, vocab_size,\n",
    "                 embedding_dim=256,\n",
    "                 hidden_dim=512,\n",
    "                 num_layers=3,\n",
    "                 dropout=0.2):\n",
    "        super().__init__()\n",
    "\n",
    "        self.embedding = nn.Embedding(vocab_size, embedding_dim, padding_idx=0)\n",
    "        self.lstm = nn.LSTM(\n",
    "            input_size=embedding_dim,\n",
    "            hidden_size=hidden_dim,\n",
    "            num_layers=num_layers,\n",
    "            batch_first=True,\n",
    "            dropout=dropout\n",
    "        )\n",
    "\n",
    "        self.feature_extractor = CNN_MLP_FeatureExtractor()  # outputs (B, 8320)\n",
    "\n",
    "        combined_dim = hidden_dim + 8320\n",
    "\n",
    "        self.fc = nn.Sequential(\n",
    "            nn.Linear(combined_dim, 512), nn.ReLU(),\n",
    "            nn.Linear(512, vocab_size)\n",
    "        )\n",
    "\n",
    "    def forward(self, move_seq, lengths, board_tensor, manual_feats):\n",
    "        emb = self.embedding(move_seq)\n",
    "\n",
    "        # Pack padded sequence for variable-length input\n",
    "        packed = nn.utils.rnn.pack_padded_sequence(\n",
    "            emb, lengths.cpu(), batch_first=True, enforce_sorted=False)\n",
    "        _, (h_n, _) = self.lstm(packed)   # h_n: (num_layers, B, hidden)\n",
    "        lstm_out = h_n[-1]                # (B, hidden)\n",
    "\n",
    "        # Board context vector (CNN + MLP)\n",
    "        context = self.feature_extractor(board_tensor, manual_feats)  # (B, 8320)\n",
    "\n",
    "        # Concatenate both\n",
    "        x = torch.cat((lstm_out, context), dim=1)\n",
    "        return self.fc(x)   # (B, vocab_size)\n"
   ],
   "id": "7c2451e5fb84d974",
   "outputs": [],
   "execution_count": 20
  },
  {
   "metadata": {
    "ExecuteTime": {
     "end_time": "2025-06-23T15:39:13.349893Z",
     "start_time": "2025-06-23T15:32:03.764742Z"
    }
   },
   "cell_type": "code",
   "source": [
    "json_path = \"../Chess_visualization/data/lichess_move_dataset.json\"\n",
    "vocab = build_vocab(json_path)\n",
    "dataset = ChessMoveDatasetCombined(json_path, vocab)\n",
    "\n",
    "train_idx, test_idx = train_test_split(list(range(len(dataset))), test_size=0.2, random_state=42)\n",
    "train_dataset = Subset(dataset, train_idx)\n",
    "test_dataset = Subset(dataset, test_idx)\n",
    "pad_idx = vocab[\"<PAD>\"]\n",
    "collate_fn = partial(collateCombined, pad_idx=pad_idx)\n",
    "\n",
    "train_loader = DataLoader(\n",
    "    train_dataset,\n",
    "    batch_size=4092,\n",
    "    shuffle=True,\n",
    "    num_workers=12,\n",
    "    pin_memory=True,\n",
    "    collate_fn=collate_fn\n",
    ")\n",
    "\n",
    "test_loader = DataLoader(\n",
    "    test_dataset,\n",
    "    batch_size=4092,\n",
    "    num_workers=12,\n",
    "    pin_memory=True,\n",
    "    collate_fn=collate_fn\n",
    ")\n",
    "\n",
    "model = LSTMPlusPositionModel(vocab_size=len(vocab))\n",
    "history = train_combined_model(\n",
    "    model,\n",
    "    train_loader,\n",
    "    test_loader,\n",
    "    epochs=100,\n",
    "    patience=5,\n",
    "    save_best_path=\"../Chess_visualization/models/lstm.pt\"\n",
    ")\n",
    "\n",
    "# Plot results\n",
    "plt.figure(figsize=(12, 5))\n",
    "plt.subplot(1, 2, 1)\n",
    "plt.plot(history[\"train_loss\"], label=\"Train Loss\")\n",
    "plt.plot(history[\"test_loss\"], label=\"Test Loss\")\n",
    "plt.xlabel(\"Epoch\")\n",
    "plt.ylabel(\"Loss\")\n",
    "plt.title(\"Loss Over Epochs\")\n",
    "plt.legend()\n",
    "\n",
    "plt.subplot(1, 2, 2)\n",
    "plt.plot(history[\"test_acc\"], label=\"Top-1 Accuracy\", color='green')\n",
    "plt.plot(history[\"test_acc_top3\"], label=\"Top-3 Accuracy\", color='orange')\n",
    "plt.plot(history[\"test_acc_top5\"], label=\"Top-5 Accuracy\", color='blue')\n",
    "plt.xlabel(\"Epoch\")\n",
    "plt.ylabel(\"Accuracy\")\n",
    "plt.title(\"Accuracy Over Epochs\")\n",
    "plt.legend()"
   ],
   "id": "b9218deab328a590",
   "outputs": [
    {
     "name": "stdout",
     "output_type": "stream",
     "text": [
      "Using device: cuda\n",
      "Epoch 1: Train 7.1399 | Test 6.5915 | Top-1 0.83% Top-3 2.30% Top-5 3.45%\n",
      "Epoch 2: Train 6.5662 | Test 6.5325 | Top-1 1.10% Top-3 2.45% Top-5 3.78%\n",
      "Epoch 3: Train 6.3900 | Test 6.3411 | Top-1 1.22% Top-3 2.99% Top-5 4.75%\n",
      "Epoch 4: Train 6.2541 | Test 6.2039 | Top-1 1.55% Top-3 4.03% Top-5 6.24%\n",
      "Epoch 5: Train 6.0299 | Test 5.9960 | Top-1 1.79% Top-3 5.05% Top-5 8.02%\n",
      "Epoch 6: Train 5.8927 | Test 5.8645 | Top-1 2.29% Top-3 6.02% Top-5 9.29%\n",
      "Epoch 7: Train 5.7740 | Test 5.7562 | Top-1 3.02% Top-3 7.24% Top-5 10.84%\n",
      "Epoch 8: Train 5.6376 | Test 5.6105 | Top-1 3.91% Top-3 9.15% Top-5 13.40%\n",
      "Epoch 9: Train 5.4953 | Test 5.4963 | Top-1 4.94% Top-3 11.20% Top-5 15.86%\n",
      "Epoch 10: Train 5.3689 | Test 5.4143 | Top-1 5.68% Top-3 12.50% Top-5 17.41%\n",
      "Epoch 11: Train 5.2550 | Test 5.3643 | Top-1 6.21% Top-3 13.44% Top-5 18.71%\n",
      "Epoch 12: Train 5.1597 | Test 5.2963 | Top-1 6.61% Top-3 14.51% Top-5 19.86%\n",
      "Epoch 13: Train 5.0711 | Test 5.2364 | Top-1 7.13% Top-3 15.23% Top-5 20.67%\n",
      "Epoch 14: Train 4.9931 | Test 5.2087 | Top-1 7.41% Top-3 15.84% Top-5 21.44%\n",
      "Epoch 15: Train 4.9194 | Test 5.1916 | Top-1 7.68% Top-3 16.27% Top-5 21.82%\n",
      "Epoch 16: Train 4.8498 | Test 5.1818 | Top-1 8.00% Top-3 16.68% Top-5 22.30%\n",
      "Epoch 17: Train 4.7853 | Test 5.1853 | Top-1 8.15% Top-3 16.88% Top-5 22.64%\n",
      "Epoch 18: Train 4.7222 | Test 5.1665 | Top-1 8.41% Top-3 17.26% Top-5 22.85%\n",
      "Epoch 19: Train 4.6640 | Test 5.1779 | Top-1 8.36% Top-3 17.27% Top-5 22.95%\n",
      "Epoch 20: Train 4.6076 | Test 5.1847 | Top-1 8.59% Top-3 17.55% Top-5 23.25%\n",
      "Epoch 21: Train 4.5513 | Test 5.1851 | Top-1 8.62% Top-3 17.45% Top-5 23.09%\n",
      "Epoch 22: Train 4.5059 | Test 5.2008 | Top-1 8.70% Top-3 17.68% Top-5 23.38%\n",
      "Epoch 23: Train 4.4490 | Test 5.2357 | Top-1 8.76% Top-3 17.82% Top-5 23.44%\n",
      "Early stopping (no improvement 5 epochs)\n"
     ]
    },
    {
     "data": {
      "text/plain": [
       "<matplotlib.legend.Legend at 0x762079fbb280>"
      ]
     },
     "execution_count": 21,
     "metadata": {},
     "output_type": "execute_result"
    },
    {
     "data": {
      "text/plain": [
       "<Figure size 1200x500 with 2 Axes>"
      ],
      "image/png": "[encoded data removed]"
     },
     "metadata": {},
     "output_type": "display_data"
    }
   ],
   "execution_count": 21
  }
 ],
 "metadata": {
  "kernelspec": {
   "display_name": "Python 3",
   "language": "python",
   "name": "python3"
  },
  "language_info": {
   "codemirror_mode": {
    "name": "ipython",
    "version": 2
   },
   "file_extension": ".py",
   "mimetype": "text/x-python",
   "name": "python",
   "nbconvert_exporter": "python",
   "pygments_lexer": "ipython2",
   "version": "2.7.6"
  }
 },
 "nbformat": 4,
 "nbformat_minor": 5
}
